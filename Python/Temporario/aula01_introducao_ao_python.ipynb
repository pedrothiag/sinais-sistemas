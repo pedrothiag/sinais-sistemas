{
 "cells": [
  {
   "cell_type": "markdown",
   "id": "513cf544",
   "metadata": {},
   "source": [
    "<h1> Introdução ao Python </h1>\n",
    "\n",
    "O Python é uma linguagem de programação de alto nível, interpretada e de propósito geral. É uma linguagem bastante utilizada em áreas como a ciência de dados, aprendizado de máquina, processamento de sinais e sistemas, entre outras. A linguagem possui uma sintaxe simples e fácil de aprender, além de uma vasta biblioteca padrão e de terceiros, tornando-a bastante versátil.\n",
    "\n",
    "<h2> 1. Apresentar Resultados na Tela </h2>\n",
    "\n",
    "Para apresentar resultados na tela, utilizamos a função `print()`. Por exemplo, para imprimir a string \"Olá, mundo!\", basta executar o seguinte comando:"
   ]
  },
  {
   "cell_type": "code",
   "execution_count": 1,
   "id": "cdc37879",
   "metadata": {},
   "outputs": [
    {
     "name": "stdout",
     "output_type": "stream",
     "text": [
      "Olá, mundo!\n"
     ]
    }
   ],
   "source": [
    "print(\"Olá, mundo!\")"
   ]
  },
  {
   "cell_type": "markdown",
   "id": "273ec0be",
   "metadata": {},
   "source": [
    "<h2> 2. Operações com Números Reais </h2>\n",
    "\n",
    "Para fazer operações com números reais, utilizamos os operadores aritméticos padrão (`+`, `-`, `*`, `/`). Por exemplo, para calcular a soma, subtração, multiplicação e divisão de dois números reais, basta executar o seguinte código:"
   ]
  },
  {
   "cell_type": "code",
   "execution_count": 1,
   "id": "afa3ebc7",
   "metadata": {},
   "outputs": [
    {
     "name": "stdout",
     "output_type": "stream",
     "text": [
      "a + b =  6.2\n",
      "a - b =  -1.2000000000000002\n",
      "a * b =  9.25\n",
      "a / b =  0.6756756756756757\n"
     ]
    }
   ],
   "source": [
    "a = 2.5\n",
    "b = 3.7\n",
    "\n",
    "c = a + b\n",
    "d = a - b\n",
    "e = a*b\n",
    "f = a/b\n",
    "\n",
    "print(\"a + b = \", c)\n",
    "print(\"a - b = \", d)\n",
    "print(\"a * b = \", e)\n",
    "print(\"a / b = \", f)"
   ]
  },
  {
   "cell_type": "markdown",
   "id": "ad2e76d4",
   "metadata": {},
   "source": [
    "<h2> 3. Estruturas Condicionais </h2>\n",
    "\n",
    "As estruturas condicionais permitem executar um bloco de código somente se uma condição for atendida. A estrutura condicional básica do Python é o `if`. Por exemplo, para verificar se um número é positivo, basta executar o seguinte código:"
   ]
  },
  {
   "cell_type": "code",
   "execution_count": 2,
   "id": "f9883453",
   "metadata": {},
   "outputs": [
    {
     "name": "stdout",
     "output_type": "stream",
     "text": [
      "x é positivo\n"
     ]
    }
   ],
   "source": [
    "x = 5\n",
    "if x > 0:\n",
    "    print(\"x é positivo\")"
   ]
  },
  {
   "cell_type": "markdown",
   "id": "5b3db5b9",
   "metadata": {},
   "source": [
    "Também é possível utilizar a estrutura condicional `else` para executar um bloco de código caso a condição do `if` não seja atendida. Por exemplo:"
   ]
  },
  {
   "cell_type": "code",
   "execution_count": 3,
   "id": "81958b6a",
   "metadata": {},
   "outputs": [
    {
     "name": "stdout",
     "output_type": "stream",
     "text": [
      "x é negativo ou zero\n"
     ]
    }
   ],
   "source": [
    "x = -2\n",
    "if x > 0:\n",
    "    print(\"x é positivo\")\n",
    "else:\n",
    "    print(\"x é negativo ou zero\")"
   ]
  },
  {
   "cell_type": "markdown",
   "id": "da213dbf",
   "metadata": {},
   "source": [
    "O comando `elif` é utilizado para definir uma condição alternativa. Por exemplo, para verificar se um número é positivo, negativo ou zero, basta executar o seguinte código:"
   ]
  },
  {
   "cell_type": "code",
   "execution_count": 4,
   "id": "4f22f997",
   "metadata": {},
   "outputs": [
    {
     "name": "stdout",
     "output_type": "stream",
     "text": [
      "x é zero\n"
     ]
    }
   ],
   "source": [
    "x = 0\n",
    "if x > 0:\n",
    "    print(\"x é positivo\")\n",
    "elif x < 0:\n",
    "    print(\"x é negativo\")\n",
    "else:\n",
    "    print(\"x é zero\")"
   ]
  },
  {
   "cell_type": "markdown",
   "id": "5d7e74c8",
   "metadata": {},
   "source": [
    "<h2> 4. Laços e Estruturas de Repetição </h2>\n",
    "\n",
    "Os laços permitem executar um bloco de código várias vezes. O laço básico do Python é o `for`. Por exemplo, para imprimir os números de 0 a 4 na tela, basta executar o seguinte código:"
   ]
  },
  {
   "cell_type": "code",
   "execution_count": 5,
   "id": "2ede4142",
   "metadata": {},
   "outputs": [
    {
     "name": "stdout",
     "output_type": "stream",
     "text": [
      "0\n",
      "1\n",
      "2\n",
      "3\n",
      "4\n"
     ]
    }
   ],
   "source": [
    "for i in range(5):\n",
    "    print(i)"
   ]
  },
  {
   "cell_type": "markdown",
   "id": "95348160",
   "metadata": {},
   "source": [
    "Nesse exemplo, o comando `range(5)` cria uma sequência de números de 0 a 4. O laço for percorre essa sequência e a variável `i` assume cada um dos valores. O comando `print(i)` exibe o valor de `i` na tela. Também é possível utilizar o laço `while` para executar um bloco de código enquanto uma condição for verdadeira. Por exemplo, para imprimir os números de 0 a 4 na tela utilizando o laço `while`, basta executar o seguinte código:"
   ]
  },
  {
   "cell_type": "code",
   "execution_count": 6,
   "id": "0e9fc0bc",
   "metadata": {},
   "outputs": [
    {
     "name": "stdout",
     "output_type": "stream",
     "text": [
      "0\n",
      "1\n",
      "2\n",
      "3\n",
      "4\n"
     ]
    }
   ],
   "source": [
    "i = 0\n",
    "while i < 5:\n",
    "    print(i)\n",
    "    i += 1"
   ]
  },
  {
   "cell_type": "markdown",
   "id": "45af4f93",
   "metadata": {},
   "source": [
    "<h2> 5. Funções </h2>\n",
    "\n",
    "As funções são blocos de código que executam uma tarefa específica e podem ser chamados em outros lugares do programa. Elas permitem que o código seja organizado em módulos lógicos e reutilizáveis.\n",
    "\n",
    "Para criar uma função, usamos a palavra reservada `def`, seguida pelo nome da função, uma lista de parâmetros (se houver) entre parênteses e dois pontos. O bloco de código identado abaixo é executado sempre que a função é chamada.\n",
    "\n",
    "Por exemplo, para criar uma função que calcula a soma de dois números, podemos usar o seguinte código:"
   ]
  },
  {
   "cell_type": "code",
   "execution_count": 7,
   "id": "fcb6f4e8",
   "metadata": {},
   "outputs": [],
   "source": [
    "def soma(a, b):\n",
    "    resultado = a + b\n",
    "    print(\"A soma é:\", resultado)"
   ]
  },
  {
   "cell_type": "markdown",
   "id": "5a783cbc",
   "metadata": {},
   "source": [
    "Para chamar uma função, basta digitar o nome da função, seguido por uma lista de argumentos (se houver) entre parênteses. Por exemplo, para chamar a função `soma` e calcular a soma dos números 2 e 3, basta executar o seguinte código:"
   ]
  },
  {
   "cell_type": "code",
   "execution_count": 8,
   "id": "2f964966",
   "metadata": {},
   "outputs": [
    {
     "name": "stdout",
     "output_type": "stream",
     "text": [
      "A soma é: 5\n"
     ]
    }
   ],
   "source": [
    "soma(2, 3)"
   ]
  },
  {
   "cell_type": "markdown",
   "id": "db03e450",
   "metadata": {},
   "source": [
    "O comando `return` é utilizado para retornar um valor calculado dentro da função. Por exemplo, para criar uma função que retorna a soma de dois números, podemos usar o seguinte código:"
   ]
  },
  {
   "cell_type": "code",
   "execution_count": 9,
   "id": "b370e431",
   "metadata": {},
   "outputs": [],
   "source": [
    "def soma(a, b):\n",
    "    resultado = a + b\n",
    "    return resultado"
   ]
  },
  {
   "cell_type": "markdown",
   "id": "b6c76b13",
   "metadata": {},
   "source": [
    "Para chamar a função e armazenar o resultado da soma em uma variável, basta executar o seguinte código:"
   ]
  },
  {
   "cell_type": "code",
   "execution_count": 10,
   "id": "f83e69fd",
   "metadata": {},
   "outputs": [
    {
     "name": "stdout",
     "output_type": "stream",
     "text": [
      "A soma é: 9\n"
     ]
    }
   ],
   "source": [
    "x = soma(2, 7)\n",
    "print(\"A soma é:\", x)"
   ]
  },
  {
   "cell_type": "markdown",
   "id": "6ed2499e",
   "metadata": {},
   "source": [
    "<h2> 6. Vetores e Matrizes </h2>\n",
    "\n",
    "Podemos criar vetores e matrizes de diferentes formas no Python, mas neste curso usaremos a bibliotecada `numpy`. A `numpy` é uma biblioteca para Python que permite trabalhar com vetores e matrizes de forma mais eficiente do que com a classe `list` padrão. \n",
    "\n",
    "Um vetor é uma sequência de valores. Em NumPy, podemos criar um vetor usando a função `array`. Por exemplo, para criar um vetor que contém os números 1, 2 e 3, podemos usar o seguinte código:"
   ]
  },
  {
   "cell_type": "code",
   "execution_count": 11,
   "id": "ba9466e3",
   "metadata": {},
   "outputs": [
    {
     "name": "stdout",
     "output_type": "stream",
     "text": [
      "[1 2 3]\n"
     ]
    }
   ],
   "source": [
    "import numpy as np\n",
    "\n",
    "v = np.array([1, 2, 3])\n",
    "print(v)"
   ]
  },
  {
   "cell_type": "markdown",
   "id": "81c2d456",
   "metadata": {},
   "source": [
    "Com a função `arange()` é possível gerar um vetor com valores espaçados de acordo com um intervalo e um passo definidos pelo usuário. A sintaxe é a seguinte:\n",
    "\n",
    "```python\n",
    "np.arange(start, stop, step)\n",
    "```\n",
    "\n",
    "onde:\n",
    "\n",
    "<ul>\n",
    "<li>`start`: o valor inicial do intervalo (inclusive);</li>\n",
    "<li>`stop`: o valor final do intervalo (exclusive);</li>\n",
    "<li>`step`: o espaçamento entre os valores.</li>\n",
    "</ul>"
   ]
  },
  {
   "cell_type": "code",
   "execution_count": 12,
   "id": "214cd032",
   "metadata": {},
   "outputs": [
    {
     "name": "stdout",
     "output_type": "stream",
     "text": [
      "[ 0  2  4  6  8 10]\n",
      "[0.  0.5 1.  1.5 2.  2.5]\n",
      "[3.  2.6 2.2 1.8 1.4 1.  0.6 0.2]\n",
      "[0 1 2 3 4 5 6 7 8 9]\n"
     ]
    }
   ],
   "source": [
    "import numpy as np\n",
    "\n",
    "x1 = np.arange(0,12,2)\n",
    "print(x1)\n",
    "\n",
    "x2 = np.arange(0,3,0.5)\n",
    "print(x2)\n",
    "\n",
    "x3 = np.arange(3,0,-0.4)\n",
    "print(x3)\n",
    "\n",
    "x4 = np.arange(0,10)\n",
    "print(x4)"
   ]
  },
  {
   "cell_type": "markdown",
   "id": "f4d40094",
   "metadata": {},
   "source": [
    "O primeiro vetor, `x1`, é composto por elementos que iniciam no 0, terminam no 12 (mas não incluído esse), com passo de 2. O segundo vetor, `x2`, é composto por elementos que iniciam no 0, terminam no 3 (mas não incluído esse), com passo de 0,5. O terceiro vetor, `x3`, é composto por elementos que iniciam no 3, terminam no 0 (mas não incluído esse), com passo de -0,4. Nesse caso, teremos um vetor que os elementos diminuem de valor. Quando o passo é igual a 1, esse pode ser omitido. Foi o que aconteceu no vetor `x4`.\n",
    "\n",
    "Para acessar os elementos de um vetor, fazemos da mesma forma do C. Todavia, o Python permite algumas facilidades, como acessar o último elemento do vetor, usando o índice `-1` e acessar um sub-vetor dentro de um vetor maior, usando o slicing. A sintaxe básica de slicing é `start:stop:step`, onde `start` é o índice de início, `stop` é o índice de fim e `step` é o tamanho do passo. Por exemplo, vamos criar um vetor e realizar diferentes acessos à ele:"
   ]
  },
  {
   "cell_type": "code",
   "execution_count": 13,
   "id": "59a40604",
   "metadata": {},
   "outputs": [
    {
     "name": "stdout",
     "output_type": "stream",
     "text": [
      "0\n",
      "6\n",
      "10\n",
      "[0 4 8]\n"
     ]
    }
   ],
   "source": [
    "import numpy as np\n",
    "\n",
    "x1 = np.arange(0,12,2)\n",
    "print(x1[0])\n",
    "print(x1[3])\n",
    "print(x1[-1])\n",
    "print(x1[0:6:2])"
   ]
  },
  {
   "cell_type": "markdown",
   "id": "1c197f52",
   "metadata": {},
   "source": [
    "Podemos acessar os elementos do vetor usando o índice. Por exemplo, para acessar o primeiro elemento do vetor, podemos usar o seguinte código:"
   ]
  },
  {
   "cell_type": "code",
   "execution_count": 14,
   "id": "12155514",
   "metadata": {},
   "outputs": [
    {
     "name": "stdout",
     "output_type": "stream",
     "text": [
      "[ 0  2  4 -8  8 10]\n"
     ]
    }
   ],
   "source": [
    "x1[3] = -8\n",
    "print(x1)"
   ]
  },
  {
   "cell_type": "markdown",
   "id": "30d48f57",
   "metadata": {},
   "source": [
    "A função `linspace` da biblioteca `numPy` é utilizada para criar uma sequência de valores igualmente espaçados dentro de um intervalo especificado. Isso é particularmente útil ao gerar valores para plotagem de gráficos, realizar interpolações ou qualquer outra situação onde seja necessário um conjunto uniformemente espaçado de valores."
   ]
  },
  {
   "cell_type": "code",
   "execution_count": 1,
   "id": "96079fe8",
   "metadata": {},
   "outputs": [
    {
     "data": {
      "text/plain": [
       "array([ 0.        ,  0.20408163,  0.40816327,  0.6122449 ,  0.81632653,\n",
       "        1.02040816,  1.2244898 ,  1.42857143,  1.63265306,  1.83673469,\n",
       "        2.04081633,  2.24489796,  2.44897959,  2.65306122,  2.85714286,\n",
       "        3.06122449,  3.26530612,  3.46938776,  3.67346939,  3.87755102,\n",
       "        4.08163265,  4.28571429,  4.48979592,  4.69387755,  4.89795918,\n",
       "        5.10204082,  5.30612245,  5.51020408,  5.71428571,  5.91836735,\n",
       "        6.12244898,  6.32653061,  6.53061224,  6.73469388,  6.93877551,\n",
       "        7.14285714,  7.34693878,  7.55102041,  7.75510204,  7.95918367,\n",
       "        8.16326531,  8.36734694,  8.57142857,  8.7755102 ,  8.97959184,\n",
       "        9.18367347,  9.3877551 ,  9.59183673,  9.79591837, 10.        ])"
      ]
     },
     "execution_count": 1,
     "metadata": {},
     "output_type": "execute_result"
    }
   ],
   "source": [
    "import numpy as np\n",
    "\n",
    "start = 0       # Valor inicial da sequência\n",
    "end = 10        # Valor final da sequência\n",
    "num_points = 50 # Número de pontos desejados na sequência\n",
    "\n",
    "# Usando linspace para gerar a sequência de valores\n",
    "x = np.linspace(start, end, num_points)\n",
    "x"
   ]
  },
  {
   "cell_type": "markdown",
   "id": "c07f6392",
   "metadata": {},
   "source": [
    "Uma matriz é uma tabela de valores. Com a `numpy`, podemos representar uma matriz usando um array multidimensional. Cada dimensão representa uma linha ou uma coluna da matriz. Por exemplo, para criar uma matriz 2x2, podemos usar o seguinte código:"
   ]
  },
  {
   "cell_type": "code",
   "execution_count": 15,
   "id": "887850de",
   "metadata": {},
   "outputs": [
    {
     "name": "stdout",
     "output_type": "stream",
     "text": [
      "[[1 2]\n",
      " [3 4]]\n"
     ]
    }
   ],
   "source": [
    "import numpy as np\n",
    "\n",
    "m = np.array([[1, 2], [3, 4]])\n",
    "print(m)"
   ]
  },
  {
   "cell_type": "markdown",
   "id": "5f93874f",
   "metadata": {},
   "source": [
    "Podemos acessar um elemento da matriz usando dois índices: o primeiro para a linha e o segundo para a coluna. Por exemplo, para acessar o elemento na segunda linha e primeira coluna da matriz `m`, podemos usar o seguinte código:"
   ]
  },
  {
   "cell_type": "code",
   "execution_count": 16,
   "id": "ff684951",
   "metadata": {},
   "outputs": [
    {
     "name": "stdout",
     "output_type": "stream",
     "text": [
      "3\n"
     ]
    }
   ],
   "source": [
    "segunda_linha_primeira_coluna = m[1][0]\n",
    "print(segunda_linha_primeira_coluna)"
   ]
  },
  {
   "cell_type": "markdown",
   "id": "c16309c1",
   "metadata": {},
   "source": [
    "Podemos alterar um elemento da matriz atribuindo um novo valor aos seus índices. Por exemplo, para alterar o elemento na segunda linha e primeira coluna da matriz `m` para o valor 5, podemos usar o seguinte código:"
   ]
  },
  {
   "cell_type": "code",
   "execution_count": 17,
   "id": "bfa0096f",
   "metadata": {},
   "outputs": [
    {
     "name": "stdout",
     "output_type": "stream",
     "text": [
      "[[1 2]\n",
      " [5 4]]\n"
     ]
    }
   ],
   "source": [
    "m[1][0] = 5\n",
    "print(m)"
   ]
  },
  {
   "cell_type": "markdown",
   "id": "5da40b60",
   "metadata": {},
   "source": [
    "Para somar dois vetores em Python, podemos usar o seguinte código:"
   ]
  },
  {
   "cell_type": "code",
   "execution_count": 18,
   "id": "a1a24629",
   "metadata": {},
   "outputs": [
    {
     "name": "stdout",
     "output_type": "stream",
     "text": [
      "[5 7 9]\n"
     ]
    }
   ],
   "source": [
    "import numpy as np\n",
    "\n",
    "a = np.array([1, 2, 3])\n",
    "b = np.array([4, 5, 6])\n",
    "\n",
    "c = a + b\n",
    "\n",
    "print(c)"
   ]
  },
  {
   "cell_type": "markdown",
   "id": "c887ac31",
   "metadata": {},
   "source": [
    "Para calcular o produto ponto-a-ponto (também conhecido como produto elemento-a-elemento) de dois vetores em Python, podemos usar o seguinte código:"
   ]
  },
  {
   "cell_type": "code",
   "execution_count": 19,
   "id": "9071d907",
   "metadata": {},
   "outputs": [
    {
     "name": "stdout",
     "output_type": "stream",
     "text": [
      "[ 4 10 18]\n"
     ]
    }
   ],
   "source": [
    "import numpy as np\n",
    "\n",
    "a = np.array([1, 2, 3])\n",
    "b = np.array([4, 5, 6])\n",
    "\n",
    "c = a * b\n",
    "\n",
    "print(c)"
   ]
  },
  {
   "cell_type": "markdown",
   "id": "1fd48ea2",
   "metadata": {},
   "source": [
    "Multiplicar um vetor ou matriz por um escalar significa multiplicar cada elemento do vetor ou matriz pelo escalar. Em NumPy, podemos multiplicar um vetor ou matriz por um escalar usando a multiplicação usual `*`, por exemplo:"
   ]
  },
  {
   "cell_type": "code",
   "execution_count": 20,
   "id": "0b0636e3",
   "metadata": {},
   "outputs": [
    {
     "name": "stdout",
     "output_type": "stream",
     "text": [
      "[2 4 6]\n"
     ]
    }
   ],
   "source": [
    "import numpy as np\n",
    "\n",
    "a = np.array([1, 2, 3])\n",
    "\n",
    "b = a * 2\n",
    "\n",
    "print(b)"
   ]
  },
  {
   "cell_type": "markdown",
   "id": "6628d8a7",
   "metadata": {},
   "source": [
    "Para somar duas matrizes em Python, podemos usar o seguinte código:"
   ]
  },
  {
   "cell_type": "code",
   "execution_count": 21,
   "id": "0b84d9d2",
   "metadata": {},
   "outputs": [
    {
     "name": "stdout",
     "output_type": "stream",
     "text": [
      "[[ 6  8]\n",
      " [10 12]]\n"
     ]
    }
   ],
   "source": [
    "import numpy as np\n",
    "\n",
    "a = np.array([[1, 2], [3, 4]])\n",
    "b = np.array([[5, 6], [7, 8]])\n",
    "\n",
    "c = a + b\n",
    "\n",
    "print(c)"
   ]
  },
  {
   "cell_type": "markdown",
   "id": "117031c4",
   "metadata": {},
   "source": [
    "Para calcular o produto de duas matrizes em Python, podemos usar o seguinte código:"
   ]
  },
  {
   "cell_type": "code",
   "execution_count": 22,
   "id": "161b3086",
   "metadata": {},
   "outputs": [
    {
     "name": "stdout",
     "output_type": "stream",
     "text": [
      "[[19 22]\n",
      " [43 50]]\n"
     ]
    }
   ],
   "source": [
    "import numpy as np\n",
    "\n",
    "a = np.array([[1, 2], [3, 4]])\n",
    "b = np.array([[5, 6], [7, 8]])\n",
    "\n",
    "c = np.dot(a, b)\n",
    "\n",
    "print(c)"
   ]
  },
  {
   "cell_type": "markdown",
   "id": "04689440",
   "metadata": {},
   "source": [
    "Além das operações básicas que foram apresentadas no tutorial anterior, existem diversas outras operações que podemos realizar com vetores e matrizes em Python usando a biblioteca NumPy."
   ]
  },
  {
   "cell_type": "markdown",
   "id": "c73417bd",
   "metadata": {},
   "source": [
    "<h2> 7. Números Complexos </h2>\n",
    "\n",
    "O Python pode ser utilizado como uma calculadora para números complexos. Para gerar um número complexo em Python, podemos utilizar a notação retangular, tal como:\n",
    "\n",
    "$$\n",
    "z = a + jb\n",
    "$$\n",
    "\n",
    "Com isso, podemos  calcular a parte real (`np.real()`), parte imaginária (`np.imag()`), magnitude (`np.abs()`) e fase (`np.angle()`) de um número complexo. \n",
    "\n",
    "Além disso, a biblioteca `numpy` permite o acesso à várias ferramentas matemáticas, como função cosseno (`numpy.cos()`), função seno (`numpy.sin()`) ou o número $\\pi$ (`numpy.pi`).\n",
    "\n",
    "Vamos calcular a parte real, imaginária, módulo e fase do número complexo $z = 3 + j4$."
   ]
  },
  {
   "cell_type": "code",
   "execution_count": 23,
   "id": "ad36e4c0",
   "metadata": {},
   "outputs": [
    {
     "name": "stdout",
     "output_type": "stream",
     "text": [
      "Real =  3.0\n",
      "Imaginário =  4.0\n",
      "Módulo =  5.0\n",
      "Fase (rad) =  0.9272952180016122\n",
      "Fase (graus) =  286.4788975654116\n"
     ]
    }
   ],
   "source": [
    "import numpy as np\n",
    "\n",
    "z = 3 + 1j*4;\n",
    "print('Real = ',np.real(z))\n",
    "print('Imaginário = ',np.imag(z))\n",
    "print('Módulo = ',np.abs(z))\n",
    "print('Fase (rad) = ',np.angle(z))\n",
    "print('Fase (graus) = ',np.abs(z)*180/np.pi)"
   ]
  },
  {
   "cell_type": "markdown",
   "id": "1e4525fc",
   "metadata": {},
   "source": [
    "Da mesma forma, podemos gerar um número complexo utilizando a notação polar:\n",
    "\n",
    "$$\n",
    "z = re^{j\\theta}\n",
    "$$\n",
    "\n",
    "Para isso, vamos utilizar a função `np.exp()` da biblioteca `numpy`. \n",
    "\n",
    "Vamos calcular a parte real, imaginária, módulo e fase do número complexo $z = 2e^{\\pi/3}$."
   ]
  },
  {
   "cell_type": "code",
   "execution_count": 25,
   "id": "fcd8dda4",
   "metadata": {},
   "outputs": [
    {
     "name": "stdout",
     "output_type": "stream",
     "text": [
      "Real =  1.0000000000000002\n",
      "Imaginário =  1.7320508075688772\n",
      "Módulo =  2.0\n",
      "Fase (rad) =  1.0471975511965976\n",
      "Fase (graus) =  114.59155902616465\n"
     ]
    }
   ],
   "source": [
    "z = 2*np.exp(1j*np.pi/3)\n",
    "\n",
    "print('Real = ',np.real(z))\n",
    "print('Imaginário = ',np.imag(z))\n",
    "print('Módulo = ',np.abs(z))\n",
    "print('Fase (rad) = ',np.angle(z))\n",
    "print('Fase (graus) = ',np.abs(z)*180/np.pi)"
   ]
  },
  {
   "cell_type": "markdown",
   "id": "03a747f2",
   "metadata": {},
   "source": [
    "A operação de complexo conjungado pode ser realizada através da função `np.conj()`\n",
    "\n",
    "Sendo $z = 3 + j4$, determine o complexo conjugado de $z$."
   ]
  },
  {
   "cell_type": "code",
   "execution_count": 26,
   "id": "6401cadf",
   "metadata": {},
   "outputs": [
    {
     "name": "stdout",
     "output_type": "stream",
     "text": [
      "z* =  (3-4j)\n"
     ]
    }
   ],
   "source": [
    "z = 3 + 1j*4\n",
    "\n",
    "zconj = np.conj(z)\n",
    "print('z* = ',zconj)"
   ]
  },
  {
   "cell_type": "markdown",
   "id": "53acaad3",
   "metadata": {},
   "source": [
    "Obviamente, podemos realizar operações de soma, subtração, multiplicação e divisão com números complexos em Python. Para isso utilizaremos os operadores de soma, subtração, multiplicação e divisão convencionais, assim como em outras linguagens de programação.\n",
    "\n",
    "Então dado os números complexos $z_1 = 3 + j4$ e $z_2 = 5 - j2$, vamos determinar $z_1 + z_2$, $z_1 - z_2$, $z_1z_2$ e $z_1/z_2$."
   ]
  },
  {
   "cell_type": "code",
   "execution_count": 27,
   "id": "c5ce260c",
   "metadata": {},
   "outputs": [
    {
     "name": "stdout",
     "output_type": "stream",
     "text": [
      "z1 + z2 =  (8+2j)\n",
      "z1 - z2 =  (-2+6j)\n",
      "z1*z2 =  (23+14j)\n",
      "z1/z2 =  (0.24137931034482757+0.896551724137931j)\n"
     ]
    }
   ],
   "source": [
    "import numpy as np\n",
    "\n",
    "z1 = 3 + 1j*4;\n",
    "z2 = 5 - 1j*2;\n",
    "\n",
    "zsoma = z1 + z2;\n",
    "zsub = z1 - z2;\n",
    "zmul = z1*z2;\n",
    "zdiv = z1/z2;\n",
    "print('z1 + z2 = ',zsoma);\n",
    "print('z1 - z2 = ',zsub);\n",
    "print('z1*z2 = ',zmul);\n",
    "print('z1/z2 = ',zdiv);"
   ]
  },
  {
   "cell_type": "markdown",
   "id": "5b8e0c8c",
   "metadata": {},
   "source": [
    "Terminamos nossa primeira aula por aqui. Com esses conceitos, creio que você não terá dificuldade nenhuma em entender como o Python pode ser utilizado para a análise de Sinais e Sistemas Lineares."
   ]
  }
 ],
 "metadata": {
  "kernelspec": {
   "display_name": "Python 3 (ipykernel)",
   "language": "python",
   "name": "python3"
  },
  "language_info": {
   "codemirror_mode": {
    "name": "ipython",
    "version": 3
   },
   "file_extension": ".py",
   "mimetype": "text/x-python",
   "name": "python",
   "nbconvert_exporter": "python",
   "pygments_lexer": "ipython3",
   "version": "3.10.9"
  }
 },
 "nbformat": 4,
 "nbformat_minor": 5
}
