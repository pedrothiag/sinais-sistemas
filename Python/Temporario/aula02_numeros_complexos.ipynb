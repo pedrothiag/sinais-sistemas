{
 "cells": [
  {
   "cell_type": "markdown",
   "id": "487701a0",
   "metadata": {},
   "source": [
    "<h1> Aula 02 - Números Complexos </h1>\n",
    "\n",
    "O Python pode ser utilizado como uma calculadora para números complexos. Para gerar um número complexo em Python, podemos utilizar a notação retangular, tal como:\n",
    "\n",
    "$$\n",
    "z = a + jb\n",
    "$$\n",
    "\n",
    "Com isso, podemos  calcular a parte real (`np.real()`), parte imaginária (`np.imag()`), magnitude (`np.abs()`) e fase (`np.angle()`) de um número complexo. \n",
    "\n",
    "Além disso, a biblioteca `numpy` permite o acesso à várias ferramentas matemáticas, como função cosseno (`numpy.cos()`), função seno (`numpy.sin()`) ou o número $\\pi$ (`numpy.pi`).\n",
    "\n",
    "<b> Exemplo 2.1: </b> Vamos calcular a parte real, imaginária, módulo e fase do número complexo $z = 3 + j4$."
   ]
  },
  {
   "cell_type": "code",
   "execution_count": 1,
   "id": "f78fbabe",
   "metadata": {},
   "outputs": [
    {
     "name": "stdout",
     "output_type": "stream",
     "text": [
      "Real =  3.0\n",
      "Imaginário =  4.0\n",
      "Módulo =  5.0\n",
      "Fase (rad) =  0.9272952180016122\n",
      "Fase (graus) =  286.4788975654116\n"
     ]
    }
   ],
   "source": [
    "import numpy as np\n",
    "\n",
    "z = 3 + 1j*4;\n",
    "print('Real = ',np.real(z))\n",
    "print('Imaginário = ',np.imag(z))\n",
    "print('Módulo = ',np.abs(z))\n",
    "print('Fase (rad) = ',np.angle(z))\n",
    "print('Fase (graus) = ',np.abs(z)*180/np.pi)"
   ]
  },
  {
   "cell_type": "markdown",
   "id": "73d005c3",
   "metadata": {},
   "source": [
    "Da mesma forma, podemos gerar um número complexo utilizando a notação polar:\n",
    "\n",
    "$$\n",
    "z = re^{j\\theta}\n",
    "$$\n",
    "\n",
    "Para isso, vamos utilizar a função `np.exp()` da biblioteca `numpy`. \n",
    "\n",
    "<b> Exemplo 2.2: </b> Vamos calcular a parte real, imaginária, módulo e fase do número complexo $z = 2e^{\\pi/3}$."
   ]
  },
  {
   "cell_type": "code",
   "execution_count": 2,
   "id": "9ad4a103",
   "metadata": {},
   "outputs": [
    {
     "name": "stdout",
     "output_type": "stream",
     "text": [
      "Real =  1.0000000000000002\n",
      "Imaginário =  1.7320508075688772\n",
      "Módulo =  2.0\n",
      "Fase (rad) =  1.0471975511965976\n",
      "Fase (graus) =  114.59155902616465\n"
     ]
    }
   ],
   "source": [
    "z = 2*np.exp(1j*np.pi/3)\n",
    "\n",
    "print('Real = ',np.real(z))\n",
    "print('Imaginário = ',np.imag(z))\n",
    "print('Módulo = ',np.abs(z))\n",
    "print('Fase (rad) = ',np.angle(z))\n",
    "print('Fase (graus) = ',np.abs(z)*180/np.pi)"
   ]
  },
  {
   "cell_type": "markdown",
   "id": "a22469e9",
   "metadata": {},
   "source": [
    "A operação de complexo conjungado pode ser realizada através da função `np.conj()`\n",
    "\n",
    "<b> Exemplo 2.3: </b> Sendo $z = 3 + j4$, determine o complexo conjugado de $z$."
   ]
  },
  {
   "cell_type": "code",
   "execution_count": 3,
   "id": "7f80ffa7",
   "metadata": {},
   "outputs": [
    {
     "name": "stdout",
     "output_type": "stream",
     "text": [
      "z* =  (3-4j)\n"
     ]
    }
   ],
   "source": [
    "z = 3 + 1j*4\n",
    "\n",
    "zconj = np.conj(z)\n",
    "print('z* = ',zconj)"
   ]
  },
  {
   "cell_type": "markdown",
   "id": "87dc8289",
   "metadata": {},
   "source": [
    "Obviamente, podemos realizar operações de soma, subtração, multiplicação e divisão com números complexos em Python. Para isso utilizaremos os operadores de soma, subtração, multiplicação e divisão convencionais, assim como em outras linguagens de programação.\n",
    "\n",
    "<b> Exemplo 2.4: </b> Dado os números complexos $z_1 = 3 + j4$ e $z_2 = 5 - j2$, vamos determinar $z_1 + z_2$, $z_1 - z_2$, $z_1z_2$ e $z_1/z_2$."
   ]
  },
  {
   "cell_type": "code",
   "execution_count": 3,
   "id": "6ff704fb",
   "metadata": {},
   "outputs": [
    {
     "name": "stdout",
     "output_type": "stream",
     "text": [
      "z1 + z2 =  (8+2j)\n",
      "z1 - z2 =  (-2+6j)\n",
      "z1*z2 =  (23+14j)\n",
      "z1/z2 =  (0.24137931034482757+0.896551724137931j)\n"
     ]
    }
   ],
   "source": [
    "import numpy as np\n",
    "\n",
    "z1 = 3 + 1j*4;\n",
    "z2 = 5 - 1j*2;\n",
    "\n",
    "zsoma = z1 + z2;\n",
    "zsub = z1 - z2;\n",
    "zmul = z1*z2;\n",
    "zdiv = z1/z2;\n",
    "print('z1 + z2 = ',zsoma);\n",
    "print('z1 - z2 = ',zsub);\n",
    "print('z1*z2 = ',zmul);\n",
    "print('z1/z2 = ',zdiv);"
   ]
  }
 ],
 "metadata": {
  "kernelspec": {
   "display_name": "Python 3 (ipykernel)",
   "language": "python",
   "name": "python3"
  },
  "language_info": {
   "codemirror_mode": {
    "name": "ipython",
    "version": 3
   },
   "file_extension": ".py",
   "mimetype": "text/x-python",
   "name": "python",
   "nbconvert_exporter": "python",
   "pygments_lexer": "ipython3",
   "version": "3.10.9"
  }
 },
 "nbformat": 4,
 "nbformat_minor": 5
}
