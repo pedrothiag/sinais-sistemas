{
 "cells": [
  {
   "cell_type": "markdown",
   "id": "b49da2ac",
   "metadata": {},
   "source": [
    "<h1>Transformada de Laplace </h1>\n",
    "\n",
    "A transformada de Laplace é bastante utilizada na análise de sinais e sistemas lineares. É uma ferramenta útil para análise da saída de um sistema descrito por equações diferenciais, além de permitir a análise de estabilidade de sistemas. Por exemplo, a transformada de Laplace é fundamental no projeto e análise de sistemas de controle, permitindo que engenheiros determinem a resposta de um sistema a diferentes entradas e projetem controladores para garantir o desempenho desejado. Engenheiros eletrônicos usam a transformada de Laplace para estudar circuitos elétricos e analisar sua resposta em regime transitório e em regime permanente.\n",
    "\n",
    "Nesse documento apresentaremos como o Python pode ser utilizado no cômputo da transformada de Laplace.\n",
    "\n",
    "<h2>1. Definição Matemática </h2>\n",
    "\n",
    "A Transformada de Laplace é definida como:\n",
    "\n",
    "$$\n",
    "X(s) = \\int_{0^-}^\\infty x(t)e^{-st}dt\n",
    "$$\n",
    "\n",
    "No Python será necessário utilizar computação simbólica para determinar o cálculo da transformada de Laplace. Dessa forma, utilizaremos a biblioteca `sympy`.\n",
    "\n",
    "<b> Exemplo 1: </b> Vamos determinar a transformada de Laplace de $x(t) = e^{-at}u(t)$ com $a > 0$.\n",
    "\n",
    "Matematicamente, a transformada de Laplace desse sinal é calculada como:\n",
    "\n",
    "$$\n",
    "X(s) = \\int_{0}^\\infty e^{-at}e^{-st}dt = \\int_{0}^\\infty e^{-(s+a)t}dt = \\frac{1}{s+a} \\quad \\mathrm{Re}\\{s\\} > -a\n",
    "$$\n",
    "\n",
    "Sendo $\\mathrm{Re}\\{s\\} > -a$ a região de convergência da transformada, que a partir daqui será omitida por comodidade. \n",
    "\n",
    "Vamos utilizar a computação simbólica para calcular essa transformada de Laplace. Para isso vamos declarar as variáveis simbólicas `t`, `s` e `a` usando a função `symbols` da biblitoca `sympy`. A variável `t` refere-se ao tempo e a variável `s` é a frequência complexa ($s = \\sigma + j\\omega$). A variável `a` deve ser real e positiva, para isso usamos os argumentos `real=True` e `positive=True`. Após isso, criamos o sinal $x(t)$ propriamente dito."
   ]
  },
  {
   "cell_type": "code",
   "execution_count": 1,
   "id": "ebebb481",
   "metadata": {},
   "outputs": [
    {
     "data": {
      "image/png": "[encoded data removed]",
      "text/latex": [
       "$\\displaystyle e^{- a t}$"
      ],
      "text/plain": [
       " -a⋅t\n",
       "ℯ    "
      ]
     },
     "execution_count": 1,
     "metadata": {},
     "output_type": "execute_result"
    }
   ],
   "source": [
    "import sympy as sympy\n",
    "sympy.init_printing()\n",
    "import matplotlib.pyplot as plt\n",
    "%matplotlib inline\n",
    "\n",
    "t, s = sympy.symbols('t, s')\n",
    "a = sympy.symbols('a', real=True, positive=True)\n",
    "\n",
    "x = sympy.exp(-a*t)\n",
    "x"
   ]
  },
  {
   "cell_type": "markdown",
   "id": "1d9c6cf9",
   "metadata": {},
   "source": [
    "Após isso, podemos calcular a transformada de Laplace usando a função `laplace_transform`. Utilizaremos o argumento `noconds=True` para apresentar apenas a expressão da transformada de Laplace."
   ]
  },
  {
   "cell_type": "code",
   "execution_count": 6,
   "id": "4bc32168",
   "metadata": {},
   "outputs": [
    {
     "data": {
      "image/png": "[encoded data removed]",
      "text/latex": [
       "$\\displaystyle \\frac{1}{a + s}$"
      ],
      "text/plain": [
       "  1  \n",
       "─────\n",
       "a + s"
      ]
     },
     "execution_count": 6,
     "metadata": {},
     "output_type": "execute_result"
    }
   ],
   "source": [
    "X = sympy.laplace_transform(x, t, s, noconds=True)\n",
    "X"
   ]
  },
  {
   "cell_type": "markdown",
   "id": "ef23cab0",
   "metadata": {},
   "source": [
    "A transformada de Laplace inversa pode ser determinada com a função `inverse_laplace_transform`. Para simplificar, a partir de agora iremos criar duas funções, `Laplace()`, que determine a transformada de Laplace e `invLaplace()`, que determina a Laplace inversa."
   ]
  },
  {
   "cell_type": "code",
   "execution_count": 8,
   "id": "adb019a1",
   "metadata": {},
   "outputs": [],
   "source": [
    "def Laplace(x):\n",
    "    return sympy.laplace_transform(x, t, s, noconds=True, simplify=True)\n",
    "\n",
    "def invLaplace(X):\n",
    "    return sympy.inverse_laplace_transform(X, s, t)"
   ]
  },
  {
   "cell_type": "markdown",
   "id": "65f74b1b",
   "metadata": {},
   "source": [
    "A Laplace inversa calculada nesse Exemplo 1 deve ser, obviamente, $e^{-at}u(t)$, como indicado no código:"
   ]
  },
  {
   "cell_type": "code",
   "execution_count": 10,
   "id": "91805974",
   "metadata": {},
   "outputs": [
    {
     "data": {
      "image/png": "[encoded data removed]",
      "text/latex": [
       "$\\displaystyle e^{- a t} \\theta\\left(t\\right)$"
      ],
      "text/plain": [
       " -a⋅t     \n",
       "ℯ    ⋅θ(t)"
      ]
     },
     "execution_count": 10,
     "metadata": {},
     "output_type": "execute_result"
    }
   ],
   "source": [
    "xinv = invLaplace(X)\n",
    "xinv"
   ]
  },
  {
   "cell_type": "markdown",
   "id": "8cc1ce2b",
   "metadata": {},
   "source": [
    "O resultado aparece multiplicado por $\\theta(t)$, que é a função de Heaviside, matematicamente definida como:\n",
    "\n",
    "$$\n",
    "\\theta (t) = \\begin{cases}\n",
    "1, & t > 0 \\\\\n",
    "1/2, & t = 0 \\\\\n",
    "0, & t < 0\n",
    "\\end{cases}\n",
    "$$\n",
    "\n",
    "A função de Heaviside é igual ao degrau unitário, a não ser em $t = 0$, que no caso, $u(0) = 1$ e $\\theta(0) = 1/2$. A transformada inversa é apresentada no gráfico abaixo, considerando $a = 1$. Para isso, utilizaremos a função `plot` da bilbioteca `sympy`. Para substituir os valores de `a` e `t`, utilizaremos a função `subs`."
   ]
  },
  {
   "cell_type": "code",
   "execution_count": 14,
   "id": "c73a1929",
   "metadata": {},
   "outputs": [
    {
     "data": {
      "image/png": "[encoded data removed]",
      "text/plain": [
       "<Figure size 640x480 with 1 Axes>"
      ]
     },
     "metadata": {},
     "output_type": "display_data"
    },
    {
     "data": {
      "text/plain": [
       "<sympy.plotting.plot.Plot at 0x1e4f7f3d050>"
      ]
     },
     "execution_count": 14,
     "metadata": {},
     "output_type": "execute_result"
    }
   ],
   "source": [
    "sympy.plot(xinv.subs({a: 1}), (t, -1, 10))"
   ]
  },
  {
   "cell_type": "markdown",
   "id": "62fefe14",
   "metadata": {},
   "source": [
    "<b> Exemplo 2: </b> Determine a transformada de Laplace de $x(t) = u(t)$.\n",
    "\n",
    "Como a transformada de Laplace é unilateral e opera para $t \\geq 0$, então para $t \\geq 0$, $u(t) = 1$."
   ]
  },
  {
   "cell_type": "code",
   "execution_count": 15,
   "id": "afca89d6",
   "metadata": {},
   "outputs": [
    {
     "data": {
      "image/png": "[encoded data removed]",
      "text/latex": [
       "$\\displaystyle \\frac{1}{s}$"
      ],
      "text/plain": [
       "1\n",
       "─\n",
       "s"
      ]
     },
     "execution_count": 15,
     "metadata": {},
     "output_type": "execute_result"
    }
   ],
   "source": [
    "import sympy as sympy\n",
    "sympy.init_printing()\n",
    "t, s = sympy.symbols('t, s')\n",
    "\n",
    "def Laplace(x):\n",
    "    return sympy.laplace_transform(x, t, s, noconds=True, simplify=True)\n",
    "\n",
    "def invLaplace(X):\n",
    "    return sympy.inverse_laplace_transform(X, s, t)\n",
    "\n",
    "x = 1\n",
    "X = Laplace(x)\n",
    "X"
   ]
  },
  {
   "cell_type": "markdown",
   "id": "0b1024ca",
   "metadata": {},
   "source": [
    "<b> Exemplo 3: </b> Determine a transformada de Laplace de $x(t) = \\cos(\\omega t)u(t)$. \n",
    "\n",
    "Nesse caso, deveremos declarar uma nova variável simbolica, denominada de `omega`, que é real."
   ]
  },
  {
   "cell_type": "code",
   "execution_count": 16,
   "id": "ca278c38",
   "metadata": {},
   "outputs": [
    {
     "data": {
      "image/png": "[encoded data removed]",
      "text/latex": [
       "$\\displaystyle \\frac{s}{\\omega^{2} + s^{2}}$"
      ],
      "text/plain": [
       "   s   \n",
       "───────\n",
       " 2    2\n",
       "ω  + s "
      ]
     },
     "execution_count": 16,
     "metadata": {},
     "output_type": "execute_result"
    }
   ],
   "source": [
    "import sympy as sympy\n",
    "sympy.init_printing()\n",
    "t, s = sympy.symbols('t, s')\n",
    "\n",
    "def Laplace(x):\n",
    "    return sympy.laplace_transform(x, t, s, noconds=True)\n",
    "\n",
    "def invLaplace(X):\n",
    "    return sympy.inverse_laplace_transform(X, s, t)\n",
    "\n",
    "#----\n",
    "\n",
    "omega = sympy.symbols('omega', real=True)\n",
    "x = sympy.cos(omega*t)\n",
    "X = Laplace(x)\n",
    "X"
   ]
  },
  {
   "cell_type": "markdown",
   "id": "6e99a52a",
   "metadata": {},
   "source": [
    "<b> Exemplo 4: </b> Determine a transformada de Laplace de $x(t) = \\delta (t)$. O impulso pode ser criado usando a função `DiracDelta` da biblioteca `sympy`."
   ]
  },
  {
   "cell_type": "code",
   "execution_count": 17,
   "id": "956c17c4",
   "metadata": {},
   "outputs": [
    {
     "data": {
      "image/png": "[encoded data removed]",
      "text/latex": [
       "$\\displaystyle 1$"
      ],
      "text/plain": [
       "1"
      ]
     },
     "execution_count": 17,
     "metadata": {},
     "output_type": "execute_result"
    }
   ],
   "source": [
    "import sympy as sympy\n",
    "sympy.init_printing()\n",
    "t, s = sympy.symbols('t, s')\n",
    "\n",
    "def Laplace(x):\n",
    "    return sympy.laplace_transform(x, t, s, noconds=True)\n",
    "\n",
    "def invLaplace(X):\n",
    "    return sympy.inverse_laplace_transform(X, s, t)\n",
    "\n",
    "x = sympy.DiracDelta(t)\n",
    "X = Laplace(x)\n",
    "X"
   ]
  },
  {
   "cell_type": "markdown",
   "id": "05967137",
   "metadata": {},
   "source": [
    "<h2> 2. Transformada de Laplace Inversa </h2>\n",
    "\n",
    "A trasformada de Laplace inversa é calculada como:\n",
    "\n",
    "$$\n",
    "x(t) = \\frac{1}{2\\pi j} \\int_{c-j\\infty}^{c+j\\infty} X(s)e^{st}ds\n",
    "$$\n",
    "\n",
    "sendo $c$ um valor escolhido na região de convergência da transformada. Todavia, o cálculo direto dessa integral é dificil de ser feito e requer o conhecimento de variáveis complexas. Como dito nas notas de aula, o principal método para calcular a transformada de Laplace inversa é utilizar a expansão em frações parciais e depois calcular a inversa por insperção. Utilizando a função `apart`, é possível realizar a expansão em frações parciais.\n",
    "\n",
    "<b> Exemplo 5: </b> Determine a expansão em frações parciais e a transformada de Laplace inversa de:\n",
    "$$\n",
    "X(s) = \\frac{1}{(s+1)(s+2)}\n",
    "$$"
   ]
  },
  {
   "cell_type": "markdown",
   "id": "81323433",
   "metadata": {},
   "source": [
    "A partir de agora, não apresentarei mais as chamadas de bibliotecas e nem a definição das funções `Laplace()` e `invLaplace()`. Suponha que elas já estão carregadas."
   ]
  },
  {
   "cell_type": "code",
   "execution_count": 18,
   "id": "3e106997",
   "metadata": {},
   "outputs": [
    {
     "data": {
      "image/png": "[encoded data removed]",
      "text/latex": [
       "$\\displaystyle - \\frac{1}{s + 2} + \\frac{1}{s + 1}$"
      ],
      "text/plain": [
       "    1       1  \n",
       "- ───── + ─────\n",
       "  s + 2   s + 1"
      ]
     },
     "execution_count": 18,
     "metadata": {},
     "output_type": "execute_result"
    }
   ],
   "source": [
    "X = 1/((s+1)*(s+2))\n",
    "sympy.apart(X,s)"
   ]
  },
  {
   "cell_type": "markdown",
   "id": "cb9289fb",
   "metadata": {},
   "source": [
    "Não é necessário determinar a expansão em frações parciais para determinar a inversa, mas sim utilizar a função `invLaplace` que já criamos anteriormente."
   ]
  },
  {
   "cell_type": "code",
   "execution_count": 19,
   "id": "3d769297",
   "metadata": {},
   "outputs": [
    {
     "data": {
      "image/png": "[encoded data removed]",
      "text/latex": [
       "$\\displaystyle \\left(e^{t} - 1\\right) e^{- 2 t} \\theta\\left(t\\right)$"
      ],
      "text/plain": [
       "⎛ t    ⎞  -2⋅t     \n",
       "⎝ℯ  - 1⎠⋅ℯ    ⋅θ(t)"
      ]
     },
     "execution_count": 19,
     "metadata": {},
     "output_type": "execute_result"
    }
   ],
   "source": [
    "x = invLaplace(X)\n",
    "x"
   ]
  },
  {
   "cell_type": "markdown",
   "id": "97b935d7",
   "metadata": {},
   "source": [
    "É interessante ver que o resultado é o mesmo se aplicarmos a inversa por insperção em relação à transformada de Laplace expandida em frações parciais:"
   ]
  },
  {
   "cell_type": "code",
   "execution_count": 20,
   "id": "7ca19a4e",
   "metadata": {},
   "outputs": [
    {
     "data": {
      "image/png": "[encoded data removed]",
      "text/latex": [
       "$\\displaystyle \\left(e^{t} - 1\\right) e^{- 2 t} \\theta\\left(t\\right)$"
      ],
      "text/plain": [
       "⎛ t    ⎞  -2⋅t     \n",
       "⎝ℯ  - 1⎠⋅ℯ    ⋅θ(t)"
      ]
     },
     "execution_count": 20,
     "metadata": {},
     "output_type": "execute_result"
    }
   ],
   "source": [
    "invLaplace(sympy.apart(X,s))"
   ]
  },
  {
   "cell_type": "markdown",
   "id": "bbfe2d47",
   "metadata": {},
   "source": [
    "<h2> 3. Propriedades da Transformada de Laplace </h2>\n",
    "\n",
    "Vamos verificar algumas propriedades da Transformada de Laplace utilizando alguns exemplos e testando se a propriedade é verdadeira. Não procurarei demonstrar todas as propriedades, visto que isso seria um trabalho tedioso. Fica a cargo para você verificar e testar essas propriedades.\n",
    "\n",
    "<h3> Propriedade 1 - Linearidade </h3> \n",
    "\n",
    "Sendo $X_1(s) = \\mathcal{L}\\{x_1(t)\\}$ e $X_2(s) = \\mathcal{L}\\{x_2(t)\\}$, então $\\mathcal{L}\\{ax_1(t) + bx_2(t)\\} = aX_1(s) + bX_2(s)$.\n",
    "\n",
    "<b> Exemplo 6: </b> Seja $x_1(t) = e^{-t}u(t)$ e $x_2(t) = e^{-2t}u(t)$, determine a transformada de Laplace de $x_1(t)$, a transformada de Laplace de $x_2(t)$ e a transformada de Laplace de $0,5x_1(t) + 1,5x_2(t)$. Verifique se a propriedade da Linearidade é valida.\n",
    "\n",
    "Primeiro vamos determinar a transformada de Laplace de $x_1(t)$:"
   ]
  },
  {
   "cell_type": "code",
   "execution_count": 21,
   "id": "72fc98d6",
   "metadata": {},
   "outputs": [
    {
     "data": {
      "image/png": "[encoded data removed]",
      "text/latex": [
       "$\\displaystyle \\frac{1}{s + 1}$"
      ],
      "text/plain": [
       "  1  \n",
       "─────\n",
       "s + 1"
      ]
     },
     "execution_count": 21,
     "metadata": {},
     "output_type": "execute_result"
    }
   ],
   "source": [
    "x1 = sympy.exp(-t)\n",
    "X1 = Laplace(x1)\n",
    "X1"
   ]
  },
  {
   "cell_type": "markdown",
   "id": "65ea6dba",
   "metadata": {},
   "source": [
    "Após isso, vamos determinar a transformada de Laplace de $x_2(t)$:"
   ]
  },
  {
   "cell_type": "code",
   "execution_count": 22,
   "id": "76b18625",
   "metadata": {},
   "outputs": [
    {
     "data": {
      "image/png": "[encoded data removed]",
      "text/latex": [
       "$\\displaystyle \\frac{1}{s + 2}$"
      ],
      "text/plain": [
       "  1  \n",
       "─────\n",
       "s + 2"
      ]
     },
     "execution_count": 22,
     "metadata": {},
     "output_type": "execute_result"
    }
   ],
   "source": [
    "x2 = sympy.exp(-2*t)\n",
    "X2 = Laplace(x2)\n",
    "X2"
   ]
  },
  {
   "cell_type": "markdown",
   "id": "9fdfa282",
   "metadata": {},
   "source": [
    "Agora a transformada de Laplace de $x_1(t) + x_2(t)$:"
   ]
  },
  {
   "cell_type": "code",
   "execution_count": 26,
   "id": "24b50a3e",
   "metadata": {},
   "outputs": [
    {
     "data": {
      "image/png": "[encoded data removed]",
      "text/latex": [
       "$\\displaystyle \\frac{2.0 s + 2.5}{\\left(s + 1\\right) \\left(s + 2\\right)}$"
      ],
      "text/plain": [
       "  2.0⋅s + 2.5  \n",
       "───────────────\n",
       "(s + 1)⋅(s + 2)"
      ]
     },
     "execution_count": 26,
     "metadata": {},
     "output_type": "execute_result"
    }
   ],
   "source": [
    "x = 0.5*x1 + 1.5*x2\n",
    "X = Laplace(x)\n",
    "X"
   ]
  },
  {
   "cell_type": "markdown",
   "id": "21421404",
   "metadata": {},
   "source": [
    "Verifique que a transformada de Laplace de $x_1(t) + x_2(t)$ é igual à $X_1(s) + X_2(s)$, como apresentado no código abaixo:"
   ]
  },
  {
   "cell_type": "code",
   "execution_count": 27,
   "id": "ce248eab",
   "metadata": {},
   "outputs": [
    {
     "data": {
      "image/png": "[encoded data removed]",
      "text/latex": [
       "$\\displaystyle \\frac{2.0 s + 2.5}{\\left(s + 1\\right) \\left(s + 2\\right)}$"
      ],
      "text/plain": [
       "  2.0⋅s + 2.5  \n",
       "───────────────\n",
       "(s + 1)⋅(s + 2)"
      ]
     },
     "execution_count": 27,
     "metadata": {},
     "output_type": "execute_result"
    }
   ],
   "source": [
    "sympy.simplify(0.5*X1 + 1.5*X2)"
   ]
  },
  {
   "cell_type": "markdown",
   "id": "687f2ef6",
   "metadata": {},
   "source": [
    "Utilizamos a função `simplify` para realizar a simplificação algébrica da expressão matemática.\n",
    "\n",
    "<h3> Propriedade 2 - Deslocamento </h3> \n",
    "\n",
    "Sendo $X(s) = \\mathcal{L}\\{x(t)\\}$, então $\\mathcal{L}\\{x(t-\\tau)u(t-\\tau)\\} = X(s)e^{-s\\tau}$.\n",
    "\n",
    "<b> Exemplo 7: </b> Determine a transformada de Laplace de $x(t) = e^{-at}u(t)$ e depois disso, determine a transformada de Laplace de: \n",
    "\n",
    "$$\n",
    "x_s(t) = x(t-\\tau)u(t - \\tau) = e^{-a(t - \\tau)}u(t - \\tau)\n",
    "$$\n",
    "\n",
    "Verifique se a propriedade do deslocamento é válida.\n",
    "\n",
    "Primeiro vamos determinar a transformada de Laplace de $x(t) = e^{-at}u(t)$:"
   ]
  },
  {
   "cell_type": "code",
   "execution_count": 28,
   "id": "4425463f",
   "metadata": {},
   "outputs": [
    {
     "data": {
      "image/png": "[encoded data removed]",
      "text/latex": [
       "$\\displaystyle \\frac{1}{a + s}$"
      ],
      "text/plain": [
       "  1  \n",
       "─────\n",
       "a + s"
      ]
     },
     "execution_count": 28,
     "metadata": {},
     "output_type": "execute_result"
    }
   ],
   "source": [
    "a = sympy.symbols('a', real=True, positive=True)\n",
    "x = sympy.exp(-a*t)\n",
    "X = Laplace(x)\n",
    "X"
   ]
  },
  {
   "cell_type": "markdown",
   "id": "d19855fa",
   "metadata": {},
   "source": [
    "Agora vamos determinar a transformada de Laplace de $x_s(t) = x(t-\\tau)u(t - \\tau)$. Para isso vamos criar uma nova variável simbólica $\\tau$, que deve ser real e positiva. Nesse caso, como o sinal deve iniciar em $t = \\tau$, deveremos multiplicar-ló por $u(t - \\tau)$:"
   ]
  },
  {
   "cell_type": "code",
   "execution_count": 29,
   "id": "f4142917",
   "metadata": {},
   "outputs": [
    {
     "data": {
      "image/png": "[encoded data removed]",
      "text/latex": [
       "$\\displaystyle e^{- a \\left(t - \\tau\\right)} \\theta\\left(t - \\tau\\right)$"
      ],
      "text/plain": [
       " -a⋅(t - τ)         \n",
       "ℯ          ⋅θ(t - τ)"
      ]
     },
     "execution_count": 29,
     "metadata": {},
     "output_type": "execute_result"
    }
   ],
   "source": [
    "tau = sympy.symbols('tau', real=True, positive=True)\n",
    "\n",
    "xs = sympy.exp(-a*(t-tau))*sympy.Heaviside(t-tau)\n",
    "xs"
   ]
  },
  {
   "cell_type": "code",
   "execution_count": 30,
   "id": "62dd0c9f",
   "metadata": {},
   "outputs": [
    {
     "data": {
      "image/png": "[encoded data removed]",
      "text/latex": [
       "$\\displaystyle \\frac{e^{- s \\tau}}{a + s}$"
      ],
      "text/plain": [
       " -s⋅τ\n",
       "ℯ    \n",
       "─────\n",
       "a + s"
      ]
     },
     "execution_count": 30,
     "metadata": {},
     "output_type": "execute_result"
    }
   ],
   "source": [
    "Xs = Laplace(xs)\n",
    "Xs"
   ]
  },
  {
   "cell_type": "markdown",
   "id": "d0345b31",
   "metadata": {},
   "source": [
    "Ver, de fato, que $\\mathcal{L}\\{x_s(t)\\} = \\mathcal{L}\\{x(t-\\tau)u(t-\\tau)\\} = X(s)e^{-s\\tau}$, logo a propriedade é válida, pois:"
   ]
  },
  {
   "cell_type": "code",
   "execution_count": 31,
   "id": "4aa582be",
   "metadata": {},
   "outputs": [
    {
     "data": {
      "image/png": "[encoded data removed]",
      "text/latex": [
       "$\\displaystyle \\frac{e^{- s \\tau}}{a + s}$"
      ],
      "text/plain": [
       " -s⋅τ\n",
       "ℯ    \n",
       "─────\n",
       "a + s"
      ]
     },
     "execution_count": 31,
     "metadata": {},
     "output_type": "execute_result"
    }
   ],
   "source": [
    "sympy.exp(-s*tau)*X"
   ]
  },
  {
   "cell_type": "markdown",
   "id": "981ede81",
   "metadata": {},
   "source": [
    "<h3> Propriedade 3 - Convolução </h3>\n",
    "\n",
    "Sendo $X_1(s) = \\mathcal{L}\\{x_1(t)\\}$ e $X_2(s) = \\mathcal{L}\\{x_2(t)\\}$, então $\\mathcal{L}\\{x_1(t) \\ast x_2(t)\\} = X_1(s)X_2(s)$.\n",
    "\n",
    "<b> Exemplo 8: </b> Utilizando a transformada de Laplace, determine a convolução entre os dois sinais:\n",
    "$$\n",
    "x_1(t) = e^{-t}u(t)\n",
    "$$\n",
    "$$\n",
    "x_2(t) = e^{-2t}u(t)\n",
    "$$\n",
    "\n",
    "Inicialmente vamos determinar a convolução a partir da definição da integral:\n",
    "\n",
    "$$\n",
    "x_1(t) \\ast x_2(t) = \\int_{-\\infty}^\\infty x_1(\\tau)x_2(t-\\tau) d\\tau\n",
    "$$\n",
    "\n",
    "Como $x_1(\\tau)$ e $x_2(\\tau)$ são sinais causais, então:\n",
    "\n",
    "$$\n",
    "x_1(\\tau) = 0 \\quad \\tau < 0\n",
    "$$\n",
    "$$\n",
    "x_2(t - \\tau) = 0 \\quad \\tau > t\n",
    "$$\n",
    "\n",
    "logo:\n",
    "\n",
    "$$\n",
    "x_1(t) \\ast x_2(t) = \\int_{0}^t x_1(\\tau)x_2(t-\\tau) d\\tau\n",
    "$$\n",
    "\n",
    "Para calcular a convolução, vamos utilizar a função `integrate` da biblioteca `sympy`."
   ]
  },
  {
   "cell_type": "code",
   "execution_count": 32,
   "id": "d84f20d3",
   "metadata": {},
   "outputs": [
    {
     "data": {
      "image/png": "[encoded data removed]",
      "text/latex": [
       "$\\displaystyle \\left(e^{t} - 1\\right) e^{- 2 t}$"
      ],
      "text/plain": [
       "⎛ t    ⎞  -2⋅t\n",
       "⎝ℯ  - 1⎠⋅ℯ    "
      ]
     },
     "execution_count": 32,
     "metadata": {},
     "output_type": "execute_result"
    }
   ],
   "source": [
    "tau = sympy.symbols('tau', real=True, positive=True)\n",
    "\n",
    "x1 = sympy.exp(-t)\n",
    "x2 = sympy.exp(-2*t)\n",
    "xconv = sympy.integrate(x1.subs(t, tau)*x2.subs(t, t - tau), (tau, 0, t))\n",
    "sympy.simplify(xconv)"
   ]
  },
  {
   "cell_type": "markdown",
   "id": "e2c4c91c",
   "metadata": {},
   "source": [
    "Utilizamos a função `simplify` apenas para simplificar a expressão algébrica. Essa convolução poderia ter sido determinada através dos seguintes passos:\n",
    "\n",
    "1. Determinar a transformada de Laplace de $x_1(t)$ e $x_2(t)$.\n",
    "2. Multiplicar as duas transformadas de Laplace.\n",
    "3. Determinar a transformada de Laplace inversa."
   ]
  },
  {
   "cell_type": "code",
   "execution_count": 33,
   "id": "e032180a",
   "metadata": {},
   "outputs": [
    {
     "data": {
      "image/png": "[encoded data removed]",
      "text/latex": [
       "$\\displaystyle \\left(e^{t} - 1\\right) e^{- 2 t} \\theta\\left(t\\right)$"
      ],
      "text/plain": [
       "⎛ t    ⎞  -2⋅t     \n",
       "⎝ℯ  - 1⎠⋅ℯ    ⋅θ(t)"
      ]
     },
     "execution_count": 33,
     "metadata": {},
     "output_type": "execute_result"
    }
   ],
   "source": [
    "X1 = Laplace(x1)\n",
    "X2 = Laplace(x2)\n",
    "Xconv = X1*X2\n",
    "\n",
    "invLaplace(Xconv)"
   ]
  },
  {
   "cell_type": "markdown",
   "id": "77a07794",
   "metadata": {},
   "source": [
    "Ambos os resultados são iguais, como era de se esperar."
   ]
  },
  {
   "cell_type": "markdown",
   "id": "aa018ade",
   "metadata": {},
   "source": [
    "<h3> Propriedade 4 - Teorema do Valor Inicial e do Valor Final </h3>\n",
    "\n",
    "Sendo $X(s) = \\mathcal{L}\\{x(t)\\}$, então:\n",
    "\n",
    "$$\n",
    "x(0^+) = \\lim_{s \\to \\infty} sX(s)\n",
    "$$\n",
    "$$\n",
    " x(\\infty) = \\lim_{s \\to 0} sX(s)\n",
    "$$\n",
    "\n",
    "<b> Exemplo 9: </b> Determine os valores iniciais e valores finais do sinal com a seguinte transformada de Laplace:\n",
    "\n",
    "$$\n",
    "X(s) = \\frac{7s + 10}{s(s+2)}\n",
    "$$\n",
    "\n",
    "Vamos fazer da forma dificil. Primeiro vamos determinar a transformada inversa:"
   ]
  },
  {
   "cell_type": "code",
   "execution_count": 34,
   "id": "f62e2e5f",
   "metadata": {},
   "outputs": [
    {
     "data": {
      "image/png": "[encoded data removed]",
      "text/latex": [
       "$\\displaystyle \\left(5 e^{2 t} + 2\\right) e^{- 2 t} \\theta\\left(t\\right)$"
      ],
      "text/plain": [
       "⎛   2⋅t    ⎞  -2⋅t     \n",
       "⎝5⋅ℯ    + 2⎠⋅ℯ    ⋅θ(t)"
      ]
     },
     "execution_count": 34,
     "metadata": {},
     "output_type": "execute_result"
    }
   ],
   "source": [
    "X = (7*s + 10)/(s*(s+2))\n",
    "x = invLaplace(X)\n",
    "x"
   ]
  },
  {
   "cell_type": "markdown",
   "id": "6fa1f708",
   "metadata": {},
   "source": [
    "O valor inicial é calculado para $t = 0^+$:"
   ]
  },
  {
   "cell_type": "code",
   "execution_count": 35,
   "id": "fdc894d2",
   "metadata": {},
   "outputs": [
    {
     "data": {
      "image/png": "[encoded data removed]",
      "text/latex": [
       "$\\displaystyle 7$"
      ],
      "text/plain": [
       "7"
      ]
     },
     "execution_count": 35,
     "metadata": {},
     "output_type": "execute_result"
    }
   ],
   "source": [
    "x.subs(t,0)*2"
   ]
  },
  {
   "cell_type": "markdown",
   "id": "f14d0631",
   "metadata": {},
   "source": [
    "Como dito, a função de Heaviside $\\theta(t)$ é igual a 1/2 quando $t = 0$, ao passo que o degrau unitário $u(t)$ é igual a 1 quando $t = 0$. Por isso que multiplicamos o resultado por dois. Poderiamos ter determinado esse valor utilizando o teorema do valor inicial. Para aplicar o limite, vamos utilizar a função `limit` da biblioteca `sympy`:"
   ]
  },
  {
   "cell_type": "code",
   "execution_count": 36,
   "id": "50eafcbc",
   "metadata": {
    "scrolled": true
   },
   "outputs": [
    {
     "data": {
      "image/png": "[encoded data removed]",
      "text/latex": [
       "$\\displaystyle 7$"
      ],
      "text/plain": [
       "7"
      ]
     },
     "execution_count": 36,
     "metadata": {},
     "output_type": "execute_result"
    }
   ],
   "source": [
    "sympy.limit(s*X,s,sympy.oo)"
   ]
  },
  {
   "cell_type": "markdown",
   "id": "f0c55a8a",
   "metadata": {},
   "source": [
    "O valor final é calculado para $\\lim_{t \\to \\infty} x(t)$:"
   ]
  },
  {
   "cell_type": "code",
   "execution_count": 37,
   "id": "ebcf7d78",
   "metadata": {},
   "outputs": [
    {
     "data": {
      "image/png": "[encoded data removed]",
      "text/latex": [
       "$\\displaystyle 5$"
      ],
      "text/plain": [
       "5"
      ]
     },
     "execution_count": 37,
     "metadata": {},
     "output_type": "execute_result"
    }
   ],
   "source": [
    "sympy.limit(x,t,sympy.oo)"
   ]
  },
  {
   "cell_type": "markdown",
   "id": "1fe54164",
   "metadata": {},
   "source": [
    "Poderiamos ter determinado esse valor utilizando o teorema do valor final:"
   ]
  },
  {
   "cell_type": "code",
   "execution_count": 38,
   "id": "ab51b8f2",
   "metadata": {},
   "outputs": [
    {
     "data": {
      "image/png": "[encoded data removed]",
      "text/latex": [
       "$\\displaystyle 5$"
      ],
      "text/plain": [
       "5"
      ]
     },
     "execution_count": 38,
     "metadata": {},
     "output_type": "execute_result"
    }
   ],
   "source": [
    "(s*X).subs(s,0)"
   ]
  },
  {
   "cell_type": "markdown",
   "id": "47fde93e",
   "metadata": {},
   "source": [
    "<h2> 4. Solução de Equações Integro-Diferenciais </h2>\n",
    "\n",
    "A transformada de Laplace pode ser utilizada para solução de equações diferenciais. Nesse caso devemos aplicar a transformada de Laplace unilateral em ambos lados da equação diferencial, isolar a transformada de Laplace da saída e calcular a sua transformada inversa, de forma obter $y(t)$.\n",
    "\n",
    "<b> Exemplo 10: </b> Resolva a seguinte equação diferencial:\n",
    "\n",
    "$$\n",
    "\\frac{d^2}{dt^2}y(t) + 5\\frac{d}{dt}y(t) + 6y(t) = \\frac{d}{dt}x(t) + x(t)\n",
    "$$\n",
    "\n",
    "em que o sinal de entrada é $x(t) = e^{-4t}u(t)$ e com as seguintes condições iniciais: $y(0^-) = 2$ e $\\dot{y}(0^-) = 1$.\n",
    "\n",
    "Aplicando-se a transformada de Laplace em ambos lados da equação diferencial:\n",
    "\n",
    "$$\n",
    "s^2Y(s) - sy(0^-) - \\dot{y}(0^-) + 5[sY(s) - y(0^-)] + 6Y(s) = sX(s) - x(0^-) + X(s)\n",
    "$$\n",
    "$$\n",
    "s^2Y(s) - 2s - 1 + 5[sY(s) - 2] + 6Y(s) = sX(s) + X(s)\n",
    "$$\n",
    "$$\n",
    "s^2Y(s) - 2s - 1 + 5sY(s) - 10 + 6Y(s) = (s+1)X(s)\n",
    "$$\n",
    "$$\n",
    "s^2Y(s) + 5sY(s) + 6Y(s) = (s+1)X(s) + 2s + 11\n",
    "$$\n",
    "$$\n",
    "(s^2 + 5s + 6)Y(s) = (s+1)X(s) + 2s + 11\n",
    "$$\n",
    "\n",
    "ou seja:\n",
    "$$\n",
    "Y(s) = \\frac{s+1}{s^2 + 5s + 6} X(s) + \\frac{2s + 11}{s^2 + 5s + 6}\n",
    "$$"
   ]
  },
  {
   "cell_type": "code",
   "execution_count": 39,
   "id": "481da836",
   "metadata": {},
   "outputs": [
    {
     "data": {
      "image/png": "[encoded data removed]",
      "text/latex": [
       "$\\displaystyle \\frac{s + 1}{\\left(s + 4\\right) \\left(s^{2} + 5 s + 6\\right)} + \\frac{2 s + 11}{s^{2} + 5 s + 6}$"
      ],
      "text/plain": [
       "        s + 1              2⋅s + 11  \n",
       "────────────────────── + ────────────\n",
       "        ⎛ 2          ⎞    2          \n",
       "(s + 4)⋅⎝s  + 5⋅s + 6⎠   s  + 5⋅s + 6"
      ]
     },
     "execution_count": 39,
     "metadata": {},
     "output_type": "execute_result"
    }
   ],
   "source": [
    "x = sympy.exp(-4*t)\n",
    "X = Laplace(x)\n",
    "\n",
    "Y = (s+1)/(s**2 + 5*s + 6)*X + (2*s + 11)/(s**2 + 5*s + 6)\n",
    "Y"
   ]
  },
  {
   "cell_type": "markdown",
   "id": "1acc8fc3",
   "metadata": {},
   "source": [
    "Para determinar a resposta total, basta calcular a transformada inversa:"
   ]
  },
  {
   "cell_type": "code",
   "execution_count": 40,
   "id": "c635cc82",
   "metadata": {},
   "outputs": [
    {
     "data": {
      "image/png": "[encoded data removed]",
      "text/latex": [
       "$\\displaystyle \\frac{\\left(13 e^{2 t} - 6 e^{t} - 3\\right) e^{- 4 t} \\theta\\left(t\\right)}{2}$"
      ],
      "text/plain": [
       "⎛    2⋅t      t    ⎞  -4⋅t     \n",
       "⎝13⋅ℯ    - 6⋅ℯ  - 3⎠⋅ℯ    ⋅θ(t)\n",
       "───────────────────────────────\n",
       "               2               "
      ]
     },
     "execution_count": 40,
     "metadata": {},
     "output_type": "execute_result"
    }
   ],
   "source": [
    "y = invLaplace(Y)\n",
    "y"
   ]
  },
  {
   "cell_type": "markdown",
   "id": "db893981",
   "metadata": {},
   "source": [
    "A saída de um sistema qualquer pode ser entendida como sendo a soma de duas componentes - a resposta à entrada nula e a resposta de estado nulo:\n",
    "\n",
    "$$\n",
    "y(t) = y_0(t) + y_\\phi(t)\n",
    "$$\n",
    "\n",
    "sendo $y_0(t)$ a resposta à entrada nula e $y_\\phi(t)$ a resposta de estado nulo. A resposta de estado nulo é determinada considerando o sistema em repouso (condições iniciais nulas) e aplicando-se a entrada, ou seja, a transformada de Laplace da resposta de estado nulo será:\n",
    "\n",
    "$$\n",
    "Y_\\phi(s) = \\frac{s+1}{s^2 + 5s + 6} X(s)\n",
    "$$\n",
    "\n",
    "para determinar $y_\\phi(t)$ basta fazer a transformada inversa:"
   ]
  },
  {
   "cell_type": "code",
   "execution_count": 41,
   "id": "045f5f08",
   "metadata": {},
   "outputs": [
    {
     "data": {
      "image/png": "[encoded data removed]",
      "text/latex": [
       "$\\displaystyle \\frac{\\left(- e^{2 t} + 4 e^{t} - 3\\right) e^{- 4 t} \\theta\\left(t\\right)}{2}$"
      ],
      "text/plain": [
       "⎛   2⋅t      t    ⎞  -4⋅t     \n",
       "⎝- ℯ    + 4⋅ℯ  - 3⎠⋅ℯ    ⋅θ(t)\n",
       "──────────────────────────────\n",
       "              2               "
      ]
     },
     "execution_count": 41,
     "metadata": {},
     "output_type": "execute_result"
    }
   ],
   "source": [
    "Y_phi = (s+1)/(s**2 + 5*s + 6)*X;\n",
    "y_phi = invLaplace(Y_phi)\n",
    "y_phi"
   ]
  },
  {
   "cell_type": "markdown",
   "id": "e33ac1f8",
   "metadata": {},
   "source": [
    "Por sua vez, a resposta de entrada nula é determinada com a entrada nula e considerando as condições iniciais impostas. Ou seja, a transformada de Laplace da resposta de estado nulo é:\n",
    "\n",
    "$$\n",
    "Y_0(s) = \\frac{2s + 11}{s^2 + 5s + 6}\n",
    "$$\n",
    "\n",
    "para determinar $y_0(t)$ basta fazer a transformada inversa:"
   ]
  },
  {
   "cell_type": "code",
   "execution_count": 42,
   "id": "1bf12841",
   "metadata": {},
   "outputs": [
    {
     "data": {
      "image/png": "[encoded data removed]",
      "text/latex": [
       "$\\displaystyle \\left(7 e^{t} - 5\\right) e^{- 3 t} \\theta\\left(t\\right)$"
      ],
      "text/plain": [
       "⎛   t    ⎞  -3⋅t     \n",
       "⎝7⋅ℯ  - 5⎠⋅ℯ    ⋅θ(t)"
      ]
     },
     "execution_count": 42,
     "metadata": {},
     "output_type": "execute_result"
    }
   ],
   "source": [
    "Y_0 = (2*s + 11)/(s**2 + 5*s + 6)\n",
    "y_0 = invLaplace(Y_0)\n",
    "y_0"
   ]
  },
  {
   "cell_type": "markdown",
   "id": "e0c1af10",
   "metadata": {},
   "source": [
    "Verifique que $y(t) = y_0(t) + y_\\phi(t)$:"
   ]
  },
  {
   "cell_type": "code",
   "execution_count": 43,
   "id": "5f6902d6",
   "metadata": {},
   "outputs": [
    {
     "data": {
      "image/png": "[encoded data removed]",
      "text/latex": [
       "$\\displaystyle \\frac{\\left(13 e^{2 t} - 6 e^{t} - 3\\right) e^{- 4 t} \\theta\\left(t\\right)}{2}$"
      ],
      "text/plain": [
       "⎛    2⋅t      t    ⎞  -4⋅t     \n",
       "⎝13⋅ℯ    - 6⋅ℯ  - 3⎠⋅ℯ    ⋅θ(t)\n",
       "───────────────────────────────\n",
       "               2               "
      ]
     },
     "execution_count": 43,
     "metadata": {},
     "output_type": "execute_result"
    }
   ],
   "source": [
    "sympy.simplify(y_phi + y_0)"
   ]
  },
  {
   "cell_type": "markdown",
   "id": "982cfe87",
   "metadata": {},
   "source": [
    "\n",
    "Em um sistema linear e invariante no tempo as condições inicias são nulas, ou seja, a resposta de entrada nula é igual à zero, restando apenas a resposta de estado nulo. Como a saída de um sistema LTI também é dada pela convolução da entrada com a resposta ao impulso, desta forma, a resposta de estado nulo é igual à convolução da entrada com a resposta ao impulso:\n",
    "\n",
    "$$\n",
    "y_\\phi(t) = x(t) \\ast h(t)\n",
    "$$\n",
    "\n",
    "<b> Exemplo 11: </b> Considere um sistema linear, invariante no tempo e causal descrito pela seguinte equação diferencial:\n",
    "\n",
    "$$\n",
    "\\frac{d^2}{dt^2}y(t) + 5\\frac{d}{dt}y(t) + 6y(t) = \\frac{d}{dt}x(t) + x(t)\n",
    "$$\n",
    "\n",
    "Determine a saída do sistema quando à entrada é $x(t) = e^{-5t}u(t)$.\n",
    "\n",
    "Aplicando a transformada de Laplace em ambos lados da equação diferencial e considerando as condições iniciais nulas:\n",
    "\n",
    "$$\n",
    "s^2Y(s) + 5sY(s) + 6Y(s) = sX(s) + X(s)\n",
    "$$\n",
    "\n",
    "ou seja:\n",
    "\n",
    "$$\n",
    "Y(s) = \\frac{s+1}{s^2 + 5s + 6}X(s)\n",
    "$$"
   ]
  },
  {
   "cell_type": "code",
   "execution_count": 44,
   "id": "fc9ca781",
   "metadata": {},
   "outputs": [
    {
     "data": {
      "image/png": "[encoded data removed]",
      "text/latex": [
       "$\\displaystyle \\frac{s + 1}{\\left(s + 5\\right) \\left(s^{2} + 5 s + 6\\right)}$"
      ],
      "text/plain": [
       "        s + 1         \n",
       "──────────────────────\n",
       "        ⎛ 2          ⎞\n",
       "(s + 5)⋅⎝s  + 5⋅s + 6⎠"
      ]
     },
     "execution_count": 44,
     "metadata": {},
     "output_type": "execute_result"
    }
   ],
   "source": [
    "x = sympy.exp(-5*t)\n",
    "X = Laplace(x)\n",
    "Y = (s+1)/(s**2 + 5*s + 6)*X\n",
    "Y"
   ]
  },
  {
   "cell_type": "markdown",
   "id": "b5aa5105",
   "metadata": {},
   "source": [
    "Determinando a transformada inversa:"
   ]
  },
  {
   "cell_type": "code",
   "execution_count": 45,
   "id": "d10da069",
   "metadata": {},
   "outputs": [
    {
     "data": {
      "image/png": "[encoded data removed]",
      "text/latex": [
       "$\\displaystyle \\frac{\\left(- e^{3 t} + 3 e^{2 t} - 2\\right) e^{- 5 t} \\theta\\left(t\\right)}{3}$"
      ],
      "text/plain": [
       "⎛   3⋅t      2⋅t    ⎞  -5⋅t     \n",
       "⎝- ℯ    + 3⋅ℯ    - 2⎠⋅ℯ    ⋅θ(t)\n",
       "────────────────────────────────\n",
       "               3                "
      ]
     },
     "execution_count": 45,
     "metadata": {},
     "output_type": "execute_result"
    }
   ],
   "source": [
    "y = invLaplace(Y)\n",
    "y"
   ]
  },
  {
   "cell_type": "markdown",
   "id": "1d9fd79c",
   "metadata": {},
   "source": [
    "A mesma resposta poderia ser obtida através da convolução. Primeiramente, vamos determinar a resposta ao impulso do sistema. Se aplicarmos $x(t) = \\delta (t)$, a saída $y(t)$ será a resposta ao impulso $h(t)$. Vemos que se $x(t) = \\delta (t)$, então $X(s) = 1$, logo:\n",
    "\n",
    "$$\n",
    "H(s) = \\frac{s+1}{s^2 + 5s + 6}\n",
    "$$"
   ]
  },
  {
   "cell_type": "code",
   "execution_count": 46,
   "id": "fe02cb70",
   "metadata": {},
   "outputs": [
    {
     "data": {
      "image/png": "[encoded data removed]",
      "text/latex": [
       "$\\displaystyle \\left(2 - e^{t}\\right) e^{- 3 t} \\theta\\left(t\\right)$"
      ],
      "text/plain": [
       "⎛     t⎞  -3⋅t     \n",
       "⎝2 - ℯ ⎠⋅ℯ    ⋅θ(t)"
      ]
     },
     "execution_count": 46,
     "metadata": {},
     "output_type": "execute_result"
    }
   ],
   "source": [
    "H = (s+1)/(s**2 + 5*s + 6)\n",
    "h = invLaplace(H)\n",
    "h"
   ]
  },
  {
   "cell_type": "markdown",
   "id": "117c15d7",
   "metadata": {},
   "source": [
    "<h2> 5. Função de Transferência </h2>\n",
    "\n",
    "A função de transferência é definida como a razão entre a transformada de Laplace da saída e a transformada de Laplace da entrada considerando condições iniciais nulas:\n",
    "\n",
    "$$\n",
    "H(s) = \\frac{Y(s)}{X(s)}\n",
    "$$\n",
    "\n",
    "De forma equivalente, a função de transferência é igual à transformada de Laplace da resposta ao impulso, ou seja:\n",
    "\n",
    "$$\n",
    "H(s) = \\mathcal{L}\\{h(t)\\}\n",
    "$$\n",
    "\n",
    "de tal forma que a resposta ao impulso é a transformada de Laplace inversa da função de transferência, ou seja:\n",
    "\n",
    "$$\n",
    "h(t) = \\mathcal{L}^{-1}\\{H(s)\\}\n",
    "$$\n",
    "\n",
    "<b> Exemplo 12: </b> Em um determinado sistema LTI causal, quando a entrada $x(t) = u(t)$ é aplicada em um sistema, a saída é $y(t) = 2e^{-3t}u(t)$. Vamos determinar a resposta ao impulso desse sistema.\n",
    "\n",
    "Vamos primeiro determinar a função de transferência desse sistema:"
   ]
  },
  {
   "cell_type": "code",
   "execution_count": 52,
   "id": "f0d73fb7",
   "metadata": {},
   "outputs": [
    {
     "data": {
      "image/png": "[encoded data removed]",
      "text/latex": [
       "$\\displaystyle \\frac{2 s}{s + 3}$"
      ],
      "text/plain": [
       " 2⋅s \n",
       "─────\n",
       "s + 3"
      ]
     },
     "execution_count": 52,
     "metadata": {},
     "output_type": "execute_result"
    }
   ],
   "source": [
    "x = 1\n",
    "X = Laplace(x)\n",
    "\n",
    "y = 2*sympy.exp(-3*t)\n",
    "Y = Laplace(y)\n",
    "\n",
    "H = Y/X\n",
    "H"
   ]
  },
  {
   "cell_type": "markdown",
   "id": "bb6d2c96",
   "metadata": {},
   "source": [
    "Após isso, podemos determinar a transformada inversa para obter a resposta ao impulso:"
   ]
  },
  {
   "cell_type": "code",
   "execution_count": 53,
   "id": "537d100d",
   "metadata": {},
   "outputs": [
    {
     "data": {
      "image/png": "[encoded data removed]",
      "text/latex": [
       "$\\displaystyle 2 \\delta\\left(t\\right) - 6 e^{- 3 t} \\theta\\left(t\\right)$"
      ],
      "text/plain": [
       "            -3⋅t     \n",
       "2⋅δ(t) - 6⋅ℯ    ⋅θ(t)"
      ]
     },
     "execution_count": 53,
     "metadata": {},
     "output_type": "execute_result"
    }
   ],
   "source": [
    "invLaplace(H)"
   ]
  },
  {
   "cell_type": "markdown",
   "id": "c7c4fc7f",
   "metadata": {},
   "source": [
    "Embora o cálculo símbolico seja poderoso, em vários momentos estamos interessado somente no formato da saída, e não necessariamente a expressão matemática da saída para todo $t$. Para essas situações, o cálculo símbolico não é adequado (seria como cortar um pão com uma espada afiada). No caso, é melhor utilizar o cálculo numérico.\n",
    "\n",
    "Uma das melhores bibliotecas do Python para tratar com o cálculo numérico da saída de sistemas descritos por funções de transferência é a `control`. Essa não é uma biblioteca padrão do Anaconda, sendo necessário instalar. Abra o Anaconda Terminal e digite:\n",
    "\n",
    "```Python\n",
    "conda install -c conda-forge control slycot\n",
    "```\n",
    "\n",
    "Siga os passos e aguarde a instalação do pacote.\n",
    "\n",
    "Para criar uma função de transferência utilizamos a função `tf()`, que recebe como argumento dois vetores: o primeiro corresponde ao vetor de coeficientes do polinômio numerador da função transferência, o segundo argumento é o vetor de coeficientes do polinômio denominador da função transferência.\n",
    "\n",
    "<b> Exemplo 13: </b> Vamos considerar um sistema descrito pela seguinte função transferência:\n",
    "\n",
    "$$\n",
    "H(s) = \\frac{2}{3s + 1}\n",
    "$$\n",
    "\n",
    "primeiramente vamos criar esse sistema:"
   ]
  },
  {
   "cell_type": "code",
   "execution_count": 1,
   "id": "c4490c3c",
   "metadata": {},
   "outputs": [
    {
     "data": {
      "text/latex": [
       "$$\\frac{2}{3 s + 1}$$"
      ],
      "text/plain": [
       "TransferFunction(array([2]), array([3, 1]))"
      ]
     },
     "execution_count": 1,
     "metadata": {},
     "output_type": "execute_result"
    }
   ],
   "source": [
    "import numpy as np\n",
    "import control as control\n",
    "import matplotlib.pyplot as plt\n",
    "\n",
    "num = np.array([2])\n",
    "den = np.array([3 , 1])\n",
    "H = control.tf(num , den)\n",
    "H"
   ]
  },
  {
   "cell_type": "markdown",
   "id": "c6ddd903",
   "metadata": {},
   "source": [
    "Para determinar a resposta ao impulso, utiliza-se a função `impulse_response`. Essa função recebe dois argumentos: a função transferência e o vetor de tempo de simulação. O vetor de simulação deve ser, necessariamente, criado usando-se o `linspace`. Vamos supor que desejamos calcular a resposta ao impulso do sistema anterior de $0 \\leq t \\leq 15$ com passo de simulação de $10^{-4}$:"
   ]
  },
  {
   "cell_type": "code",
   "execution_count": 2,
   "id": "72bd17b8",
   "metadata": {},
   "outputs": [
    {
     "data": {
      "image/png": "[encoded data removed]",
      "text/plain": [
       "<Figure size 640x480 with 1 Axes>"
      ]
     },
     "metadata": {},
     "output_type": "display_data"
    }
   ],
   "source": [
    "t0 = 0\n",
    "tend = 15\n",
    "dt = 1e-4\n",
    "Npoints = int((tend - t0)/dt)\n",
    "T = np.linspace(t0,tend,Npoints)\n",
    "\n",
    "t, h = control.impulse_response(H, T)\n",
    "\n",
    "plt.plot(t, h)\n",
    "plt.title(\"Resposta ao Impulso\")\n",
    "plt.xlabel(\"$t$\")\n",
    "plt.grid()\n",
    "plt.show()"
   ]
  },
  {
   "cell_type": "markdown",
   "id": "2c72d5fe",
   "metadata": {},
   "source": [
    "A resposta ao degrau pode ser determinada de forma semelhante utilizando-se a função `step_response`:"
   ]
  },
  {
   "cell_type": "code",
   "execution_count": 3,
   "id": "321b967d",
   "metadata": {},
   "outputs": [
    {
     "data": {
      "image/png": "[encoded data removed]",
      "text/plain": [
       "<Figure size 640x480 with 1 Axes>"
      ]
     },
     "metadata": {},
     "output_type": "display_data"
    }
   ],
   "source": [
    "t0 = 0\n",
    "tend = 15\n",
    "dt = 1e-4\n",
    "Npoints = int((tend - t0)/dt)\n",
    "T = np.linspace(t0,tend,Npoints)\n",
    "\n",
    "t, sr = control.step_response(H, T)\n",
    "\n",
    "plt.plot(t, sr)\n",
    "plt.title(\"Resposta ao Degrau\")\n",
    "plt.xlabel(\"$t$\")\n",
    "plt.grid()\n",
    "plt.show()"
   ]
  },
  {
   "cell_type": "markdown",
   "id": "9043c843",
   "metadata": {},
   "source": [
    "Na realidade, a saída do sistema à qualquer entrada pode ser calculada usando a função `forced_response`. Vamos supor que desejamos calcular a saída do sistema quando a entrada é $x(t) = e^{-2t}u(t)$:"
   ]
  },
  {
   "cell_type": "code",
   "execution_count": 4,
   "id": "23e9c410",
   "metadata": {},
   "outputs": [
    {
     "data": {
      "image/png": "[encoded data removed]",
      "text/plain": [
       "<Figure size 640x480 with 1 Axes>"
      ]
     },
     "metadata": {},
     "output_type": "display_data"
    }
   ],
   "source": [
    "t0 = 0\n",
    "tend = 15\n",
    "dt = 1e-4\n",
    "Npoints = int((tend - t0)/dt)\n",
    "T = np.linspace(t0,tend,Npoints)\n",
    "\n",
    "x = np.exp(-2 * T)\n",
    "t, y = control.forced_response(H, T, x)\n",
    "\n",
    "plt.plot(t, y)\n",
    "plt.title(\"Resposta à Exponencial\")\n",
    "plt.xlabel(\"$t$\")\n",
    "plt.grid()\n",
    "plt.show()"
   ]
  },
  {
   "cell_type": "markdown",
   "id": "ec446093",
   "metadata": {},
   "source": [
    "O diagrama de polos e zeros pode ser obtido através da função `pzmap`. Relembrando que sistemas LTIC serão estáveis se todos os polos estiverem no SPE."
   ]
  },
  {
   "cell_type": "code",
   "execution_count": 5,
   "id": "f45100bc",
   "metadata": {},
   "outputs": [
    {
     "data": {
      "text/plain": [
       "(array([-0.33333333+0.j]), array([], dtype=complex128))"
      ]
     },
     "execution_count": 5,
     "metadata": {},
     "output_type": "execute_result"
    },
    {
     "data": {
      "image/png": "[encoded data removed]",
      "text/plain": [
       "<Figure size 640x480 with 1 Axes>"
      ]
     },
     "metadata": {},
     "output_type": "display_data"
    }
   ],
   "source": [
    "control.pzmap(H)"
   ]
  },
  {
   "cell_type": "markdown",
   "id": "642649a6",
   "metadata": {},
   "source": [
    "<h2> 6. Interconexão de Sistemas LTI </h2>\n",
    "\n",
    "A associação de sistemas LTI é uma técnica amplamente utilizada na engenharia de controle para combinar vários sistemas lineares em um único sistema equivalente. Essa abordagem permite analisar e projetar sistemas mais complexos, dividindo-os em blocos menores e conectando-os adequadamente. Utilizando a biblioteca `control` do Python, a associação de sistemas LTI pode ser facilmente realizada.\n",
    "\n",
    "\n",
    "<b> Exemplo 14: </b> Considere duas funções de transferência dadas:\n",
    "\n",
    "$$\n",
    "H_1(s) = \\frac{2}{s}\n",
    "$$\n",
    "\n",
    "$$\n",
    "H_2(s) = \\frac{1}{s + 2}\n",
    "$$\n",
    "\n",
    "A associação em série dessas duas funções de transferências será calculada através da função `series`:"
   ]
  },
  {
   "cell_type": "code",
   "execution_count": 6,
   "id": "cce546b2",
   "metadata": {},
   "outputs": [
    {
     "data": {
      "text/latex": [
       "$$\\frac{2}{s^2 + 2 s}$$"
      ],
      "text/plain": [
       "TransferFunction(array([2]), array([1, 2, 0]))"
      ]
     },
     "execution_count": 6,
     "metadata": {},
     "output_type": "execute_result"
    }
   ],
   "source": [
    "H1 = control.tf([2] , [1,0])\n",
    "H2 = control.tf([1] , [1,2])\n",
    "Hseries = control.series(H1,H2)\n",
    "Hseries"
   ]
  },
  {
   "cell_type": "markdown",
   "id": "23b2218a",
   "metadata": {},
   "source": [
    "Veja que é igual ao resultado esperado pela teoria, em que:\n",
    "\n",
    "$$\n",
    "H_{eq,series} = H_1(s)H_2(s)\n",
    "$$\n",
    "\n",
    "Por sua vez, a associação em paralelo dessas duas funções de transferências será calculada através da função `parallel`:"
   ]
  },
  {
   "cell_type": "code",
   "execution_count": 7,
   "id": "d63a1aa4",
   "metadata": {},
   "outputs": [
    {
     "data": {
      "text/latex": [
       "$$\\frac{3 s + 4}{s^2 + 2 s}$$"
      ],
      "text/plain": [
       "TransferFunction(array([3, 4]), array([1, 2, 0]))"
      ]
     },
     "execution_count": 7,
     "metadata": {},
     "output_type": "execute_result"
    }
   ],
   "source": [
    "Hparallel = control.parallel(H1,H2)\n",
    "Hparallel"
   ]
  },
  {
   "cell_type": "markdown",
   "id": "ef0ff207",
   "metadata": {},
   "source": [
    "Também é igual ao resultado esperado pela teoria:\n",
    "\n",
    "$$\n",
    "H_{eq,parallel} = H_1(s) + H_2(s)\n",
    "$$\n",
    "\n",
    "A associação em feedback é calculada através da função `feedback`. O primeiro argumento é a função de transferência da malha direta, ao passo que o segundo argumento é a função de transferência da malha de realimentação, como indicado na Figura abaixo:"
   ]
  },
  {
   "attachments": {
    "feedback.png": {
     "image/png": "[encoded data removed]"
    }
   },
   "cell_type": "markdown",
   "id": "dfcbec1f",
   "metadata": {},
   "source": [
    "![feedback.png](attachment:feedback.png)"
   ]
  },
  {
   "cell_type": "code",
   "execution_count": 8,
   "id": "4ae498b3",
   "metadata": {},
   "outputs": [
    {
     "data": {
      "text/latex": [
       "$$\\frac{2 s + 4}{s^2 + 2 s + 2}$$"
      ],
      "text/plain": [
       "TransferFunction(array([2, 4]), array([1, 2, 2]))"
      ]
     },
     "execution_count": 8,
     "metadata": {},
     "output_type": "execute_result"
    }
   ],
   "source": [
    "Hfeedback = control.feedback(H1, H2, sign=-1)\n",
    "Hfeedback"
   ]
  },
  {
   "cell_type": "markdown",
   "id": "127a5c8f",
   "metadata": {},
   "source": [
    "Em que o argumento `sign=-1` indica que é uma realimentação negativa. Novamente, verifique que o resultado é igual ao obtido de forma teórica:\n",
    "\n",
    "$$\n",
    "H_{eq,feedback} = \\frac{H_1(s)}{1 + H_1(s)H_2(s)}\n",
    "$$"
   ]
  },
  {
   "attachments": {
    "motor.PNG": {
     "image/png": "[encoded data removed]"
    }
   },
   "cell_type": "markdown",
   "id": "c50d6e6d",
   "metadata": {},
   "source": [
    "<h2> Aplicação - Análise de um Motor de Corrente Contínua </h2>\n",
    "\n",
    "Segundo o Castrucci: \"os motores de corrente contínua são muito utilizados nas indústrias, pois são empregados para realizar diversos tipos de acionamentos mecânicos\". A Figura abaixo (Castrucci) representa um esquema de um motor de corrente contínua controlado por armadura.\n",
    "\n",
    "![motor.PNG](attachment:motor.PNG)\n",
    "\n",
    "Em que:\n",
    "- $e_a(t)$: tensão de armadura;\n",
    "- $i_a(t)$: corrente de armadura;\n",
    "- $R_a$: resistência de armadura;\n",
    "- $L_a$: indutância de armadura;\n",
    "- $i_c(t)$: corrente de campo do motor;\n",
    "- $\\tau(t)$: conjungado eletromagnético (torque) do motor;\n",
    "- $\\theta(t)$: posição angular do eixo;\n",
    "- $B$: coeficiente do atrito angular;\n",
    "- $J$: inércia do conjunto formado pelo rotor do motor e pela carga mecânica;\n",
    "- $K_t$: consante de proporcionalidade entre o conjugado eletromagnético do motor e a corrente de armadura;\n",
    "- $K_v$: constante de proporcionalidade entre a força contraeletromotriz gerada pela armadura em toração e a velocidade angular do eixo.\n",
    "\n",
    "A dinâmica do sistema é representado pelas seguintes equações diferenciais:\n",
    "\n",
    "$$\n",
    "e_a(t) = R_ai_a(t) + L_a\\frac{di_a(t)}{dt} + K_v\\frac{d\\theta(t)}{dt}\n",
    "$$\n",
    "\n",
    "$$\n",
    "\\tau(t) = K_ti_a(t)\n",
    "$$\n",
    "\n",
    "$$\n",
    "\\tau(t) = J\\frac{d^2\\theta(t)}{dt^2} + B\\frac{d\\theta(t)}{dt}\n",
    "$$\n",
    "\n",
    "Aplicando a transformada de Laplace nas equações diferenciais e considerando as condições inicais nulas:\n",
    "\n",
    "$$\n",
    "E_a(s) = R_aI_a(s) + sL_aI_a(s) + sK_v\\Theta(s)\n",
    "$$\n",
    "\n",
    "$$\n",
    "T(s) = K_tI_a(s)\n",
    "$$\n",
    "\n",
    "$$\n",
    "T(s) = s^2J\\Theta(s) + sB\\Theta(s)\n",
    "$$\n",
    "\n",
    "Desta forma:\n",
    "\n",
    "$$\n",
    "s^2J\\Theta(s) + sB\\Theta(s) = K_tI_a(s)\n",
    "$$\n",
    "\n",
    "ou seja:\n",
    "\n",
    "$$\n",
    "I_a(s) = \\frac{s^2J\\Theta(s) + sB\\Theta(s)}{K_t}\n",
    "$$\n",
    "\n",
    "Aplicando-se na equação referente a tensão de armadura:\n",
    "\n",
    "$$\n",
    "E_a(s) = I_a(s)\\left( R_a + sL_a \\right) + sK_v\\Theta(s)\n",
    "$$\n",
    "\n",
    "$$\n",
    "E_a(s) = \\left(\\frac{s^2J\\Theta(s) + sB\\Theta(s)}{K_t} \\right) \\left( R_a + sL_a \\right) + sK_v\\Theta(s)\n",
    "$$\n",
    "\n",
    "Após algum algebrismo:\n",
    "\n",
    "$$\n",
    "\\frac{\\Theta(s)}{E_a(s)} = \\frac{K_t}{s[JL_as^2 + (R_aJ + L_aB)s + R_aB + K_vK_t]}\n",
    "$$\n",
    "\n",
    "Se a variável de saída é a velocidade angular:\n",
    "\n",
    "$$\n",
    "\\omega(t) = \\frac{d\\theta (t)}{dt}\n",
    "$$\n",
    "\n",
    "$$\n",
    "\\Omega(s) = s\\Theta(s)\n",
    "$$\n",
    "\n",
    "ou seja:\n",
    "\n",
    "$$\n",
    "\\frac{\\Omega(s)}{E_a(s)} = G(s) = \\frac{K_t}{JL_as^2 + (R_aJ + L_aB)s + R_aB + K_vK_t}\n",
    "$$\n",
    "\n",
    "Na maioria dos casos, a indutância $L_a$ é muito pequena, logo:\n",
    "\n",
    "$$\n",
    "L_aB \\ll R_aJ\n",
    "$$\n",
    "\n",
    "$$\n",
    "JL_a \\approx 0\n",
    "$$\n",
    "\n",
    "o que resulta em:\n",
    "\n",
    "$$\n",
    "\\frac{\\Omega(s)}{E_a(s)} = G(s) = \\frac{K_t}{sR_aJ + R_aB + K_vK_t}\n",
    "$$\n",
    "\n",
    "ou seja:\n",
    "\n",
    "$$\n",
    "G(s) = \\frac{\\frac{K_t}{R_aB + K_vK_t}}{\\left( \\frac{R_aJ}{R_aB + K_vK_t} \\right)s + 1}\n",
    "$$\n",
    "\n",
    "\n",
    "Desta forma, o motor DC pode ser aproximado por uma função transferência de primeira ordem:\n",
    "\n",
    "$$\n",
    "\\frac{\\Omega(s)}{E_a(s)} = G(s) = \\frac{K_m}{a s + 1}\n",
    "$$\n",
    "\n",
    "sendo:\n",
    "\n",
    "$$\n",
    "K_m = \\frac{K_t}{R_aB + K_vK_t}\n",
    "$$\n",
    "\n",
    "$$\n",
    "a = \\frac{R_aJ}{R_aB + K_vK_t}\n",
    "$$\n",
    "\n",
    "Vamos supor um determinado motor da ElectroCraft de corrente máxima de 2A e tensão máxima de 30V e que possui os seguintes parâmetros estimados:\n",
    "\n",
    "- $R_a = 3 \\Omega$\n",
    "- $L_a = 6 \\mathrm{mH}$\n",
    "- $K_t = K_v = 50 \\times 10^{-3} \\; \\mathrm{N\\cdot m/A}$ \n",
    "- $J = 10^{-4}  \\;  \\mathrm{N\\cdot m\\cdot s^2/rad}$\n",
    "- $B = 1,05 \\times 10^{-4}  \\;  \\mathrm{N\\cdot m\\cdot s/rad}$\n",
    "\n",
    "Calculando os parâmetros da função transferência de primeira ordem:"
   ]
  },
  {
   "cell_type": "code",
   "execution_count": 9,
   "id": "669bfa4a",
   "metadata": {},
   "outputs": [
    {
     "name": "stdout",
     "output_type": "stream",
     "text": [
      "Km =  17.76198934280639\n",
      "a =  0.10657193605683835\n"
     ]
    }
   ],
   "source": [
    "Ra = 3\n",
    "La = 6e-3\n",
    "Kv = 50e-3\n",
    "Kt = 50e-3\n",
    "J = 1e-4\n",
    "B = 1.05e-4\n",
    "\n",
    "Km = Kt/(Ra*B + Kv*Kt)\n",
    "a = Ra*J/(Ra*B + Kv*Kt)\n",
    "\n",
    "print('Km = ', Km)\n",
    "print('a = ', a)"
   ]
  },
  {
   "cell_type": "markdown",
   "id": "743361ae",
   "metadata": {},
   "source": [
    "Criando a função de transferência do motor DC:"
   ]
  },
  {
   "cell_type": "code",
   "execution_count": 10,
   "id": "d550ea67",
   "metadata": {},
   "outputs": [
    {
     "data": {
      "text/latex": [
       "$$\\frac{17.76}{0.1066 s + 1}$$"
      ],
      "text/plain": [
       "TransferFunction(array([17.76198934]), array([0.10657194, 1.        ]))"
      ]
     },
     "execution_count": 10,
     "metadata": {},
     "output_type": "execute_result"
    }
   ],
   "source": [
    "import numpy as np\n",
    "import control as control\n",
    "import matplotlib.pyplot as plt\n",
    "\n",
    "num = np.array([Km])\n",
    "den = np.array([a , 1])\n",
    "G = control.tf(num , den)\n",
    "G"
   ]
  },
  {
   "cell_type": "markdown",
   "id": "a9f194a1",
   "metadata": {},
   "source": [
    "Vamos simular aplicando um degrau de tensão de 10 V na entrada do motor:"
   ]
  },
  {
   "cell_type": "code",
   "execution_count": 11,
   "id": "2dff4bbd",
   "metadata": {},
   "outputs": [
    {
     "data": {
      "image/png": "[encoded data removed]",
      "text/plain": [
       "<Figure size 640x480 with 1 Axes>"
      ]
     },
     "metadata": {},
     "output_type": "display_data"
    }
   ],
   "source": [
    "t0 = 0\n",
    "tend = 4\n",
    "dt = 1e-4\n",
    "Npoints = int((tend - t0)/dt)\n",
    "T = np.linspace(t0,tend,Npoints)\n",
    "\n",
    "x = 10\n",
    "t, y = control.forced_response(G, T, x)\n",
    "\n",
    "plt.plot(t, y)\n",
    "plt.title(\"Resposta à 10u(t)\")\n",
    "plt.xlabel(\"$t$\")\n",
    "plt.grid()\n",
    "plt.show()"
   ]
  },
  {
   "cell_type": "markdown",
   "id": "0fe285a6",
   "metadata": {},
   "source": [
    "Pelo gráfico, notamos que a velocidade do motor em regime será um pouco maior do que 175 rad/s. O mesmo valor poderia ter sido aplicando-se o teorema do valor final. Sendo:\n",
    "\n",
    "$$\n",
    "e_a(t) = 10u(t)\n",
    "$$\n",
    "\n",
    "$$\n",
    "E_a(s) = \\frac{10}{s}\n",
    "$$\n",
    "\n",
    "A transformada de Laplace da velocidade angular pode ser calculada como:\n",
    "\n",
    "$$\n",
    "\\Omega(s) = E_a(s)G(s) = \\frac{177,6}{s(0,1066s + 1)}\n",
    "$$\n",
    "\n",
    "Pelo teorema do valor final:\n",
    "\n",
    "$$\n",
    "\\lim_{t\\to\\infty} \\omega(t) = \\lim_{s\\to0} s\\Omega(s) = \\lim_{s\\to0} \\frac{177,6}{0,1066s + 1}\n",
    "$$\n",
    "\n",
    "logo:\n",
    "\n",
    "$$\n",
    "\\lim_{t\\to\\infty} \\omega(t) = 177,6\n",
    "$$\n",
    "\n",
    "Em controle temos a definição de [Fonte: https://materialpublic.imd.ufrn.br/curso/disciplina/1/63/2/8]:\n",
    "- O regime transiente é analisado a partir do instante em que se aplica uma entrada até o instante em que o sistema não varia mais (ou varia pouco).\n",
    "- O regime permanente é analisado a partir do instante que sua saída não varia mais (ou varia pouco).\n",
    "\n",
    "Para o motor analisado, o transiente demora aproximadamente 0,5s. \n",
    "\n",
    "Na prática, nós queremos que o motor \"gire\" a uma certa velocidade angular. Todavia, no motor modelado, a entrada é um valor de tensão. Qual deve ser o valor de tensão aplicado para que o motor gire em uma certa velocidade? Poderiamos pensar em contratar um operador que, medindo a velocidade do motor, pudesse aplicar mais ou menos tensão nos terminais do motor. Se a velocidade do motor estiver baixa, ele aumenta a tensão aplicada. Se a velocidade do motor estiver alta, ele diminui a tensão aplicada. Esse operador seria um \"controlador\" para o motor, e está ilustrado na Figura abaixo:"
   ]
  },
  {
   "attachments": {
    "controlador2.png": {
     "image/png": "[encoded data removed]"
    }
   },
   "cell_type": "markdown",
   "id": "cca5dd23",
   "metadata": {},
   "source": [
    "![controlador2.png](attachment:controlador2.png)"
   ]
  },
  {
   "cell_type": "markdown",
   "id": "ad692f49",
   "metadata": {},
   "source": [
    "Podemos construir um sistema que se comporte como esse controlador. O esquema mais simples de controle é apresentado na Figura abaixo:"
   ]
  },
  {
   "attachments": {
    "sistemacontrole.png": {
     "image/png": "[encoded data removed]"
    }
   },
   "cell_type": "markdown",
   "id": "178a67ee",
   "metadata": {},
   "source": [
    "![sistemacontrole.png](attachment:sistemacontrole.png)"
   ]
  },
  {
   "cell_type": "markdown",
   "id": "2e072b2b",
   "metadata": {},
   "source": [
    "O sinal $r(t)$ é chamado de referência. O controlador é representado pelo sistema $C(s)$, e recebe como informação o sinal de erro entre a saída do motor $G(s)$, representado pelo sinal $\\omega(t)$, e a referência:\n",
    "\n",
    "$$\n",
    "e(t) = r(t) - \\omega (t)\n",
    "$$\n",
    "\n",
    "se $e(t) = 0$, a saída da planta é igual à referência e portanto nada é feito. Se $e(t) > 0$, que dizer que a velocidade de rotação do motor é menor do que a referência, e portanto o controlador deve aplicar mais tensão nos terminais do motor. Se $e(t) < 0$, que dizer que a velocidade de rotação do motor é maior do que a referência, e portanto o controlador deve aplicar menos tensão nos terminais do motor. O sinal gerado pelo controlador e aplicado ao motor é chamado de sinal de controle.\n",
    "\n",
    "A função transferência em malha fechada será:\n",
    "\n",
    "$$\n",
    "H(s) = \\frac{C(s)G(s)}{1 + G(s)C(s)}\n",
    "$$\n",
    "\n",
    "Vamos utilizar um controlador proporcional, tal que $C(s) = 2$. Vamos determinar a função transferência em malha fechada:"
   ]
  },
  {
   "cell_type": "code",
   "execution_count": 12,
   "id": "3626eaaf",
   "metadata": {},
   "outputs": [
    {
     "data": {
      "text/latex": [
       "$$\\frac{35.52}{0.1066 s + 36.52}$$"
      ],
      "text/plain": [
       "TransferFunction(array([35.52397869]), array([ 0.10657194, 36.52397869]))"
      ]
     },
     "execution_count": 12,
     "metadata": {},
     "output_type": "execute_result"
    }
   ],
   "source": [
    "K = 2\n",
    "C = control.tf(K , 1)\n",
    "CG = control.series(C,G)\n",
    "H = control.feedback(CG,1,sign=-1)\n",
    "H"
   ]
  },
  {
   "cell_type": "markdown",
   "id": "7c8a2ef3",
   "metadata": {},
   "source": [
    "A referência agora é o valor de velocidade angular que desejamos que o motor gire. Por exemplo, se quisermos que o motor gire a uma velocidade de 50 rad/s, basta aplicar uma referência de $r(t) = 50u(t)$:"
   ]
  },
  {
   "cell_type": "code",
   "execution_count": 13,
   "id": "6d9a0713",
   "metadata": {},
   "outputs": [
    {
     "data": {
      "image/png": "[encoded data removed]",
      "text/plain": [
       "<Figure size 640x480 with 1 Axes>"
      ]
     },
     "metadata": {},
     "output_type": "display_data"
    }
   ],
   "source": [
    "t0 = 0\n",
    "tend = 4\n",
    "dt = 1e-4\n",
    "Npoints = int((tend - t0)/dt)\n",
    "T = np.linspace(t0,tend,Npoints)\n",
    "\n",
    "r = 50\n",
    "t, y = control.forced_response(H, T, r)\n",
    "\n",
    "plt.plot(t, y)\n",
    "plt.title(\"Resposta do Sistema quando a Referência é 50 rad/s\")\n",
    "plt.xlabel(\"$t$\")\n",
    "plt.grid()\n",
    "plt.show()"
   ]
  },
  {
   "cell_type": "markdown",
   "id": "3fa62dd7",
   "metadata": {},
   "source": [
    "Verifique que existe um erro. Isso pode ser resolvido utilizando outros tipos de controladores. Existem outros detalhes que ainda não foram explorados:\n",
    "\n",
    "- Por exemplo, o sinal de tensão aplicado no motor não deve exceder o valor de tensão nominal. Em momento nenhum analisamos isso.\n",
    "- Além disso, o sinal de controle não é aplicado diretamente ao motor, mas sim em um circuito que aciona o motor de forma adequada através de um sinal PWM, por exemplo. \n",
    "- Qual deve ser o valor de $K$ adequado? Apenas chutamos um valor, mas existem métodos de projeto adequados para isso.\n",
    "- Como medir a velocidade de rotação do motor?\n",
    "- Se desejamos implementar o controlador em um microcontrolador, como converter a função de transferência do controlador em um algoritmo computacional que realize a mesma coisa?\n",
    "\n",
    "Esses detalhes serão estudados em disciplinas posteriores, como Controle, Instrumentação, Automação Industrial, Processamento Digital de Sinais e Eletrônica Analógica."
   ]
  }
 ],
 "metadata": {
  "kernelspec": {
   "display_name": "Python 3 (ipykernel)",
   "language": "python",
   "name": "python3"
  },
  "language_info": {
   "codemirror_mode": {
    "name": "ipython",
    "version": 3
   },
   "file_extension": ".py",
   "mimetype": "text/x-python",
   "name": "python",
   "nbconvert_exporter": "python",
   "pygments_lexer": "ipython3",
   "version": "3.11.4"
  }
 },
 "nbformat": 4,
 "nbformat_minor": 5
}
